{
  "cells": [
    {
      "cell_type": "markdown",
      "metadata": {
        "id": "Emia6qd0MdJD"
      },
      "source": [
        "# The Sparse Mixture-of-Experts Layer\n",
        "\n"
      ]
    },
    {
      "cell_type": "markdown",
      "metadata": {
        "id": "owbKvxwhcMuO"
      },
      "source": [
        "The [Sparse Mixture-of-Experts](https://arxiv.org/abs/1701.06538) (MoE) layer computes a **sparse** combination of expert modules (usually feed forward networks) for a given input.\n",
        "\n",
        "In this notebook, we provide a walkthorugh for implementing a sparse MoE layer and then show how you can include it in a character-level language model.\n",
        "\n",
        "This notebook is inspired by the makeMoE blog post, available at: https://huggingface.co/blog/AviSoori1x/makemoe-from-scratch.\n",
        "\n",
        "*The following implementations are mearly illustrative and didactic, often at the cost of performance.*"
      ]
    },
    {
      "cell_type": "markdown",
      "metadata": {
        "id": "QjVXjz2xuZsb"
      },
      "source": [
        "## Part I: The Sparse MoE layer"
      ]
    },
    {
      "cell_type": "markdown",
      "metadata": {
        "id": "8Alcezr1Rj8t"
      },
      "source": [
        "The following picture illustrates the Sparse MoE layer where only one expert is selected.\n",
        "\n",
        "![Sparse MoE layer](https://blogger.googleusercontent.com/img/b/R29vZ2xl/AVvXsEhbsjq4iseHi-Azxcj0irBjGkma0yd4geSPPombnJSdd5dyzTguUU2pdFfZu4G38G4F4TiymUOaIkQnXGVAix5x8wF3-9Ov3NJwWaEZNvJY84CWCgU5MbUYI_DjKa_BvalTHu3eyfCJGR89UqwskKngsppDy94Gahz3HAoKLh2vmh-Jzb7ZedRI91OwFw/s960/image1.jpg)"
      ]
    },
    {
      "cell_type": "markdown",
      "metadata": {
        "id": "5xwnxQCQuwRn"
      },
      "source": [
        "> MoE layers combine the output of $n$ expert networks $\\{E_1, \\dots, E_n\\}$ using a gating (or router) function $G$. The following equation defines an MoE layer. It maps an input vector $x$ to a weighted sum of the experts' outputs, where the gating function assigns the weights.\n",
        ">\n",
        "> $$\n",
        "> y = \\sum_{i=1}^{n} G(x)_i E_i(x)\n",
        "> $$\n",
        ">\n",
        "> Sparse MoE layers rely on **sparse gating functions**, which only select a subset of experts. This can be achieved with a sparse gating vector *i.e.*, by assigning some experts 0 weight. Importantly, the *computation for experts assigned zero weight can be skipped*."
      ]
    },
    {
      "cell_type": "markdown",
      "metadata": {
        "id": "V2FzdIgBRhs0"
      },
      "source": [
        "At the core of the sparse MoE layer is its sparse gating (or routing) function, which assigns a weight to each expert.\n",
        "\n",
        "> The sparse gating function $G : \\mathbb{R}^N → \\mathbb{R}^E$ maps an input token to a sparse vector with the weight scores of each expert.\n",
        "\n",
        "A common approach is to learn a linear transformation $W_g^{N \\times E}$ which maps the input token representations to affinity scores for each expert and then select the highest k:\n",
        "\n",
        "$$\n",
        "G(x) = Softmax(KeepTopK(W_g x, k)), \\text{where} \\\\\n",
        "KeepTopK(z, k)_i =\n",
        "\\begin{cases}\n",
        "  z_i & \\text{if $z_i$ in the top $k$ elements of $z$} \\\\\n",
        "  -\\inf & \\text{otherwise}\n",
        "\\end{cases}\n",
        "$$"
      ]
    },
    {
      "cell_type": "code",
      "execution_count": null,
      "metadata": {
        "id": "8mkddr4Rte9y"
      },
      "outputs": [],
      "source": [
        "import torch\n",
        "import torch.nn as nn\n",
        "\n",
        "def topk_scores(gate: nn.Linear, k: int, x: torch.Tensor):\n",
        "    raw_scores = gate(x)\n",
        "    scores = keep_topk(raw_scores, k)\n",
        "    scores = torch.softmax(scores, dim=-1, dtype=torch.float32)\n",
        "    return scores\n",
        "\n",
        "def keep_topk(scores: torch.Tensor, k: int) -> torch.Tensor:\n",
        "    _, topk_indices = scores.topk(k, dim=-1)\n",
        "    assignment = torch.zeros_like(scores, dtype=torch.bool)\n",
        "    assignment.scatter_(-1, topk_indices, True)\n",
        "    return torch.where(assignment, scores, float(\"-inf\"))"
      ]
    },
    {
      "cell_type": "markdown",
      "metadata": {
        "id": "VvqTEtNOe07k"
      },
      "source": [
        "Another component of sparse MoE layers are the experts.\n",
        "\n",
        "> An expert $E : \\mathbb{R}^N → \\mathbb{R}^N$ learns a (usually) non-linear transformation of the input x.\n",
        "\n",
        "In this notebook, we will use a two-layer MLP."
      ]
    },
    {
      "cell_type": "code",
      "execution_count": null,
      "metadata": {
        "id": "ZOnavdvve0Tm"
      },
      "outputs": [],
      "source": [
        "def make_expert(hidden_size, ffn_hidden_size = None):\n",
        "  if ffn_hidden_size is None:\n",
        "    ffn_hidden_size = 4 * hidden_size\n",
        "  return nn.Sequential(\n",
        "      nn.Linear(hidden_size, ffn_hidden_size),\n",
        "      nn.GELU(),\n",
        "      nn.Linear(ffn_hidden_size, hidden_size),\n",
        "  )"
      ]
    },
    {
      "cell_type": "markdown",
      "metadata": {
        "id": "jpdoeQdUgwn4"
      },
      "source": [
        "One important aspect of constructing the experts is ensuring that they only compute the output representations for selected inputs."
      ]
    },
    {
      "cell_type": "code",
      "execution_count": null,
      "metadata": {
        "id": "yi0udYimn5gz"
      },
      "outputs": [],
      "source": [
        "def run_expert(expert: nn.Module, expert_scores: torch.Tensor, x: torch.Tensor) -> torch.Tensor:\n",
        "    # Select the inputs to compute and totally skip the expert if it was not selected.\n",
        "    selected_x = x[expert_scores > 0]\n",
        "    if len(selected_x) == 0:\n",
        "        return None\n",
        "\n",
        "    weights = expert_scores[expert_scores > 0].unsqueeze(-1)\n",
        "\n",
        "    return weights * expert(selected_x)"
      ]
    },
    {
      "cell_type": "markdown",
      "source": [
        "One final component of top-k routing is load balancing. One common way, adopted by [GShard](https://arxiv.org/abs/2006.16668) and [Switch-Transformer](https://arxiv.org/abs/2101.03961) of implementing it is:\n",
        "\n",
        "$$\n",
        "L_{LB} = n \\sum_{i=1}^n f_i \\cdot P_i \\text{, where}\n",
        "$$\n",
        "\n",
        "$f_i$ represents the fraction of tokens routed to expert $i$ and P_i is the average probability over all tokens assigned to expert i.\n",
        "\n",
        "Note that the probabilities are before the gating function."
      ],
      "metadata": {
        "id": "D62D4x2mu0HE"
      }
    },
    {
      "cell_type": "code",
      "source": [
        "def load_balancing_loss(\n",
        "    raw_scores: torch.Tensor, token_assignment: torch.Tensor,\n",
        ") -> torch.Tensor:\n",
        "    _, num_experts = raw_scores.size()\n",
        "    raw_scores = torch.softmax(raw_scores, dim=-1, dtype=torch.float32)\n",
        "\n",
        "    # Compute the fraction of tokens assigned to each expert.\n",
        "    token_fractions = einops.reduce(token_assignment.float(), \"t e -> e\", \"mean\")\n",
        "\n",
        "    # Compute the average weight of each expert.\n",
        "    average_weights = einops.reduce(raw_scores, \"t e -> e\", \"mean\")\n",
        "    return num_experts ** 2 * (token_fractions * average_weights).mean()"
      ],
      "metadata": {
        "id": "kmEr0u_quzn0"
      },
      "execution_count": null,
      "outputs": []
    },
    {
      "cell_type": "markdown",
      "source": [
        "We can now update the `keep_topk` function to include load balancing and save it to a global variable with a losses."
      ],
      "metadata": {
        "id": "fr-kWL3D6q4o"
      }
    },
    {
      "cell_type": "code",
      "source": [
        "def keep_topk(scores: torch.Tensor, k: int) -> torch.Tensor:\n",
        "  _, topk_indices = scores.topk(k, dim=-1)\n",
        "  assignment = torch.zeros_like(scores, dtype=torch.bool)\n",
        "  assignment.scatter_(-1, topk_indices, True)\n",
        "  append_lb_loss(load_balancing_loss(scores, assignment))\n",
        "  return torch.where(assignment, scores, float(\"-inf\"))\n",
        "\n",
        "_lb_losses = []\n",
        "\n",
        "def append_lb_loss(loss: torch.Tensor) -> None:\n",
        "  global _lb_losses\n",
        "  assert (loss >= 0.0).all(), f\"Negative loss: {loss.item()}\"\n",
        "  _lb_losses.append(loss)\n",
        "\n",
        "def get_lb_losses() -> list[torch.Tensor]:\n",
        "  global _lb_losses\n",
        "  return _lb_losses\n",
        "\n",
        "def clear_lb_losses() -> None:\n",
        "  global _lb_losses\n",
        "  _lb_losses = []"
      ],
      "metadata": {
        "id": "F5bWndEs66m4"
      },
      "execution_count": null,
      "outputs": []
    },
    {
      "cell_type": "markdown",
      "source": [
        "Finally, we will define some auxiliary methods to compute statistics useful for monitoring training progress."
      ],
      "metadata": {
        "id": "pXl04pMbP1qR"
      }
    },
    {
      "cell_type": "code",
      "source": [
        "from contextlib import contextmanager\n",
        "\n",
        "_statistics = {}\n",
        "_statistics_enabled = False\n",
        "\n",
        "@contextmanager\n",
        "def capture_statistics(enable=True):\n",
        "  global _statistics_enabled\n",
        "  prev_value = _statistics_enabled\n",
        "  _statistics_enabled = enable\n",
        "  try:\n",
        "    yield\n",
        "  finally:\n",
        "    _statistics_enabled = prev_value\n",
        "\n",
        "def save_statistics(layer_idx: int, topk_scores: torch.Tensor):\n",
        "  def compute() -> dict[str, float]:\n",
        "    def entropy():\n",
        "      entropy_eps = 1e-10\n",
        "      norm_scores = topk_scores / topk_scores.sum(dim=1, keepdim=True)\n",
        "      tokens_entropy = -(norm_scores * torch.log2(norm_scores + entropy_eps)).sum(dim=1)\n",
        "      return tokens_entropy.mean().item()\n",
        "\n",
        "    def unused():\n",
        "      expert_load = einops.reduce(topk_scores > 0, \"t e -> e\", \"sum\")\n",
        "      return int((expert_load == 0).sum().item())\n",
        "\n",
        "    return {\n",
        "        \"entropy\": entropy(),\n",
        "        \"unused\": unused(),\n",
        "    }\n",
        "\n",
        "  global _statistics\n",
        "  global _statistics_enabled\n",
        "  if not _statistics_enabled:\n",
        "    return\n",
        "  assert layer_idx not in _statistics, f\"Repeated layer {layer_idx}\"\n",
        "  _statistics[layer_idx] = compute()\n",
        "\n",
        "def compute_statistics():\n",
        "  global _statistics\n",
        "  stats = {\n",
        "      \"entropy\": 0.0,\n",
        "      \"unused\": 0,\n",
        "  }\n",
        "  for layer_statistics in _statistics.values():\n",
        "    stats[\"entropy\"] += layer_statistics[\"entropy\"]\n",
        "    stats[\"unused\"] += layer_statistics[\"unused\"]\n",
        "  stats[\"entropy\"] /= len(_statistics)\n",
        "  return stats\n",
        "\n",
        "def clear_statistics():\n",
        "  global _statistics\n",
        "  _statistics = {}"
      ],
      "metadata": {
        "id": "9rktaHDcP91d"
      },
      "execution_count": null,
      "outputs": []
    },
    {
      "cell_type": "markdown",
      "metadata": {
        "id": "9699Xpu4pGPC"
      },
      "source": [
        "Putting everything together, we can run a sparse MoE layer by first obtaining the scores and then computing the expert outputs for the selected tokens."
      ]
    },
    {
      "cell_type": "code",
      "execution_count": null,
      "metadata": {
        "id": "IFXW4V_3hrgJ"
      },
      "outputs": [],
      "source": [
        "class MoELayer(nn.Module):\n",
        "  def __init__(\n",
        "      self,\n",
        "      *,\n",
        "      hidden_size: int,\n",
        "      num_experts: int,\n",
        "      k: int,\n",
        "      idx: int,\n",
        "      ffn_hidden_size = None,\n",
        "  ):\n",
        "    super().__init__()\n",
        "    self.gate = nn.Linear(hidden_size, num_experts)\n",
        "    self.experts = nn.ModuleList(\n",
        "        [make_expert(hidden_size, ffn_hidden_size) for _ in range(num_experts)]\n",
        "    )\n",
        "    self.k = k\n",
        "    self.idx = idx\n",
        "\n",
        "  def forward(self, x: torch.Tensor):\n",
        "    # Flatten all dimensions (e.g batch, seq len)\n",
        "    x_flat = x.view(-1, x.size(-1))\n",
        "\n",
        "    scores = topk_scores(self.gate, self.k, x_flat)\n",
        "    save_statistics(self.idx, scores)\n",
        "    outputs = torch.zeros_like(x_flat)\n",
        "    for i, expert in enumerate(self.experts):\n",
        "      expert_scores = scores[:, i]\n",
        "\n",
        "      expert_outputs = run_expert(expert, expert_scores, x_flat)\n",
        "      if expert_outputs is None:\n",
        "        continue\n",
        "\n",
        "      outputs[expert_scores > 0] += expert_outputs\n",
        "\n",
        "    # Recover original dimensions\n",
        "    outputs = outputs.view_as(x)\n",
        "\n",
        "    return outputs"
      ]
    },
    {
      "cell_type": "markdown",
      "metadata": {
        "id": "yhmbmir2cuCn"
      },
      "source": [
        "## Part II: The training data"
      ]
    },
    {
      "cell_type": "markdown",
      "metadata": {
        "id": "c7htNP9Jc0z9"
      },
      "source": [
        "With the sparse MoE layer implemented, we will move towards developing a character level model using that layer. The model will be trained on text from Shakespeare, available at [https://raw.githubusercontent.com/AviSoori1x/makeMoE/main/input.txt\n",
        "](https://raw.githubusercontent.com/AviSoori1x/makeMoE/main/input.txt\n",
        ")."
      ]
    },
    {
      "cell_type": "markdown",
      "metadata": {
        "id": "iPXhhz6weDMt"
      },
      "source": [
        "We will start by downloading and inspecting the data."
      ]
    },
    {
      "cell_type": "code",
      "execution_count": null,
      "metadata": {
        "id": "jiy0tKQfMvUB",
        "colab": {
          "base_uri": "https://localhost:8080/"
        },
        "outputId": "20a31212-506a-4505-8b9c-f540e923ed27"
      },
      "outputs": [
        {
          "output_type": "stream",
          "name": "stdout",
          "text": [
            "--2024-11-16 17:26:03--  https://raw.githubusercontent.com/AviSoori1x/makeMoE/main/input.txt\n",
            "Resolving raw.githubusercontent.com (raw.githubusercontent.com)... 185.199.110.133, 185.199.111.133, 185.199.108.133, ...\n",
            "Connecting to raw.githubusercontent.com (raw.githubusercontent.com)|185.199.110.133|:443... connected.\n",
            "HTTP request sent, awaiting response... 200 OK\n",
            "Length: 1115394 (1.1M) [text/plain]\n",
            "Saving to: ‘input.txt.1’\n",
            "\n",
            "\rinput.txt.1           0%[                    ]       0  --.-KB/s               \rinput.txt.1         100%[===================>]   1.06M  --.-KB/s    in 0.01s   \n",
            "\n",
            "2024-11-16 17:26:03 (106 MB/s) - ‘input.txt.1’ saved [1115394/1115394]\n",
            "\n",
            "Length in characters:  1115394\n",
            "First 100 characters --------------------------------------------------\n",
            "First Citizen:\n",
            "Before we proceed any further, hear me speak.\n",
            "\n",
            "All:\n",
            "Speak, speak.\n",
            "\n",
            "First Citizen:\n",
            "You\n"
          ]
        }
      ],
      "source": [
        "# Downloading the tiny shakespeare dataset\n",
        "!wget https://raw.githubusercontent.com/AviSoori1x/makeMoE/main/input.txt\n",
        "\n",
        "# read it in to inspect it\n",
        "with open('input.txt', 'r', encoding='utf-8') as f:\n",
        "    text = f.read()\n",
        "\n",
        "print(\"Length in characters: \", len(text))\n",
        "\n",
        "# let's look at the first 100 characters\n",
        "print(\"First 100 characters\", \"-\" * 50)\n",
        "print(text[:100])"
      ]
    },
    {
      "cell_type": "markdown",
      "metadata": {
        "id": "7dKUimzLevzp"
      },
      "source": [
        "From here, we can create the model vocabulary, which maps the characters into token ids."
      ]
    },
    {
      "cell_type": "code",
      "execution_count": null,
      "metadata": {
        "id": "W6E7HG-YNigp"
      },
      "outputs": [],
      "source": [
        "class Vocabulary:\n",
        "\n",
        "  def __init__(self, text: str):\n",
        "    chars = set(text)\n",
        "    self.ctoi = {c: i for i, c in enumerate(chars)}\n",
        "    self.itoc = {v: k for k, v in self.ctoi.items()}\n",
        "\n",
        "  def encode(self, text: str) -> list[int]:\n",
        "    return [self.ctoi[t] for t in text]\n",
        "\n",
        "  def decode(self, ids: list[int]) -> str:\n",
        "    return \"\".join(self.itoc[i] for i in ids)\n",
        "\n",
        "  def __len__(self):\n",
        "    return len(self.ctoi)\n",
        "\n",
        "  def __str__(self):\n",
        "    return f\"Vocabulary[size={len(self)}]{self.ctoi}\""
      ]
    },
    {
      "cell_type": "markdown",
      "metadata": {
        "id": "q7pOGTjHfVsY"
      },
      "source": [
        "We can train the vocabulary on the whole training set and some light testing to check that everything is working as expected."
      ]
    },
    {
      "cell_type": "code",
      "execution_count": null,
      "metadata": {
        "id": "E2JtQSvMfcic",
        "colab": {
          "base_uri": "https://localhost:8080/"
        },
        "outputId": "5933d50a-d3ae-4d1e-d315-c89e5deed854"
      },
      "outputs": [
        {
          "output_type": "stream",
          "name": "stdout",
          "text": [
            "Vocabulary[size=65]{'Q': 0, '$': 1, '-': 2, 'k': 3, 'N': 4, 'L': 5, 'T': 6, 'r': 7, 'c': 8, '?': 9, 'b': 10, ':': 11, 'X': 12, 'e': 13, 'E': 14, 'l': 15, 'F': 16, 'y': 17, 'Z': 18, 'K': 19, '\\n': 20, '.': 21, 'x': 22, 's': 23, 'J': 24, 'P': 25, 'm': 26, 'v': 27, 'O': 28, 'z': 29, 'I': 30, 'W': 31, 'G': 32, 'o': 33, 'H': 34, 't': 35, 'U': 36, 'q': 37, 'a': 38, 'i': 39, 'M': 40, 'V': 41, \"'\": 42, 'g': 43, ' ': 44, 'n': 45, 'd': 46, '!': 47, 'w': 48, 'C': 49, 'u': 50, 'j': 51, 'A': 52, 'S': 53, 'D': 54, '&': 55, 'B': 56, 'Y': 57, ',': 58, 'f': 59, 'h': 60, 'R': 61, 'p': 62, ';': 63, '3': 64}\n"
          ]
        }
      ],
      "source": [
        "vocab = Vocabulary(text)\n",
        "print(vocab)\n",
        "\n",
        "# Test if encoding/decoding work\n",
        "first_chars = text[:1000]\n",
        "encoded = vocab.encode(first_chars)\n",
        "decoded = vocab.decode(encoded)\n",
        "assert first_chars == decoded"
      ]
    },
    {
      "cell_type": "markdown",
      "metadata": {
        "id": "MCWHEgmgfpEg"
      },
      "source": [
        "Afterwards, we can encode the data as a tensor and create a train and validation split."
      ]
    },
    {
      "cell_type": "code",
      "execution_count": null,
      "metadata": {
        "id": "jfmYqseQfoxs",
        "colab": {
          "base_uri": "https://localhost:8080/"
        },
        "outputId": "e8e0765f-4845-4efc-ed15-4c9abe79b3a7"
      },
      "outputs": [
        {
          "output_type": "stream",
          "name": "stdout",
          "text": [
            "Total tokens: 1115394\n",
            "Train tokens: 1113394\n",
            "Val tokens:  2000\n"
          ]
        }
      ],
      "source": [
        "# Encode all text\n",
        "encoded_text = torch.tensor(vocab.encode(text))\n",
        "print(\"Total tokens:\", encoded_text.size(0))\n",
        "# Split into train and validation\n",
        "val_size = 2000\n",
        "\n",
        "encoded_train = encoded_text[:-val_size]\n",
        "encoded_val = encoded_text[-val_size:]\n",
        "print(\"Train tokens:\", encoded_train.size(0))\n",
        "print(\"Val tokens: \", encoded_val.size(0))"
      ]
    },
    {
      "cell_type": "markdown",
      "metadata": {
        "id": "akQ2Ugf0gb66"
      },
      "source": [
        "From here, we can create the dataset class to iterate the data. Each record will be a chunk of adjacent tokens and the model will learn to predict the next token from the previous ones."
      ]
    },
    {
      "cell_type": "code",
      "execution_count": null,
      "metadata": {
        "id": "7OYYZCc9bj3y",
        "colab": {
          "base_uri": "https://localhost:8080/"
        },
        "outputId": "749208d8-b72c-4778-9c00-e16651d1e81b"
      },
      "outputs": [
        {
          "output_type": "stream",
          "name": "stdout",
          "text": [
            "Train size: 1113329 , val size: 1935\n"
          ]
        }
      ],
      "source": [
        "import torch.utils.data\n",
        "\n",
        "# Predict on block_size contiguous tokens\n",
        "seq_len = 64\n",
        "\n",
        "\n",
        "class ShakespeareDataset(torch.utils.data.Dataset):\n",
        "\n",
        "  def __init__(self, data: torch.Tensor, seq_len: int):\n",
        "    self.data = data\n",
        "    self.seq_len = seq_len\n",
        "\n",
        "\n",
        "  def __getitem__(self, i: int) -> torch.Tensor:\n",
        "    # Account for extra one in LM offset\n",
        "    data = self.data[i:i + self.seq_len + 1]\n",
        "    x = data[:-1]\n",
        "    y = data[1:]\n",
        "    return x, y\n",
        "\n",
        "  def __len__(self):\n",
        "    return len(self.data) - self.seq_len - 1\n",
        "\n",
        "train = ShakespeareDataset(encoded_train, seq_len)\n",
        "val = ShakespeareDataset(encoded_val, seq_len)\n",
        "print(\"Train size:\", len(train), \", val size:\", len(val))"
      ]
    },
    {
      "cell_type": "markdown",
      "metadata": {
        "id": "yOaZZGCICviC"
      },
      "source": [
        "## Part III: The MoE Transformer Model"
      ]
    },
    {
      "cell_type": "markdown",
      "metadata": {
        "id": "AB7YL90ctBwg"
      },
      "source": [
        "Finally, we can create the transformer model with the sparse MoE layer replacing the usual feed forward network.\n",
        "\n",
        "We start by defining the model configuration.\n",
        "\n",
        "*This network implementation is mearly illustrative.*"
      ]
    },
    {
      "cell_type": "code",
      "execution_count": null,
      "metadata": {
        "id": "7NLfTPutY5ml"
      },
      "outputs": [],
      "source": [
        "import dataclasses\n",
        "\n",
        "@dataclasses.dataclass\n",
        "class Config:\n",
        "  seq_len: int = seq_len\n",
        "  n_layers: int = 4\n",
        "  n_heads: int = 4\n",
        "  hidden_size: int = 128\n",
        "  ffn_hidden_size: int = 256\n",
        "  head_size: int = 32\n",
        "  vocab_size: int = len(vocab)\n",
        "\n",
        "  k: int = 2\n",
        "  normalize_scores: int = True\n",
        "  n_experts: int = 32"
      ]
    },
    {
      "cell_type": "markdown",
      "metadata": {
        "id": "BCuB0WUYuHYd"
      },
      "source": [
        "Afterwards, we define the self-attention mechanism."
      ]
    },
    {
      "cell_type": "code",
      "execution_count": null,
      "metadata": {
        "id": "cg-wikzjuDQr",
        "colab": {
          "base_uri": "https://localhost:8080/"
        },
        "outputId": "a86238bb-4519-4929-b36f-0fdde055d85a"
      },
      "outputs": [
        {
          "output_type": "execute_result",
          "data": {
            "text/plain": [
              "torch.Size([4, 8, 128])"
            ]
          },
          "metadata": {},
          "execution_count": 14
        }
      ],
      "source": [
        "import einops\n",
        "import torch.nn as nn\n",
        "import torch.nn.functional as F\n",
        "\n",
        "class MultiHeadAttention(nn.Module):\n",
        "\n",
        "  def __init__(self, config: Config):\n",
        "    super().__init__()\n",
        "    self.config = config\n",
        "    # We have n_head projections, each projecting to head_dim for the queries, keys and values.\n",
        "    self.queries_proj = nn.Linear(config.hidden_size, config.n_heads * config.head_size)\n",
        "    self.keys_proj = nn.Linear(config.hidden_size, config.n_heads * config.head_size)\n",
        "    self.values_proj = nn.Linear(config.hidden_size, config.n_heads * config.head_size)\n",
        "    self.out_proj = nn.Linear(config.n_heads * config.head_size, config.hidden_size)\n",
        "\n",
        "  def forward(self, x: torch.Tensor, is_causal: bool = True):\n",
        "    _, T, _ = x.size()\n",
        "    n_heads, head_dim = self.config.n_heads, self.config.head_size\n",
        "\n",
        "    # Compute projections and split by queries, keys and values.\n",
        "    q, k, v = self.queries_proj(x), self.keys_proj(x), self.values_proj(x)\n",
        "\n",
        "    q = einops.rearrange(q, \"b t (head proj) -> b head t proj\", head=n_heads, proj=head_dim)\n",
        "    k = einops.rearrange(k, \"b t (head proj) -> b head t proj\", head=n_heads, proj=head_dim)\n",
        "    v = einops.rearrange(v, \"b t (head proj) -> b head t proj\", head=n_heads, proj=head_dim)\n",
        "\n",
        "    out = F.scaled_dot_product_attention(q, k, v, dropout_p=0.0, is_causal=is_causal)\n",
        "\n",
        "    # Reorder to have all head values for token together\n",
        "    out = einops.rearrange(out, \"b head time proj -> b time (head proj)\")\n",
        "\n",
        "    # Compute the final projection\n",
        "    out = self.out_proj(out)\n",
        "    return out\n",
        "\n",
        "config = Config()\n",
        "attn = MultiHeadAttention(config)\n",
        "input = torch.rand(4, 8, config.hidden_size)\n",
        "out = attn(input, is_causal=True)\n",
        "out.size()"
      ]
    },
    {
      "cell_type": "markdown",
      "metadata": {
        "id": "_lGdWenOxAlz"
      },
      "source": [
        "Finally, we define the block module and the full transformer.\n",
        "\n",
        "For this example, we use learnt embeddings to represent positional information in the transformer."
      ]
    },
    {
      "cell_type": "code",
      "execution_count": null,
      "metadata": {
        "id": "SagYJ1_XsQ75"
      },
      "outputs": [],
      "source": [
        "class Block(nn.Module):\n",
        "\n",
        "  def __init__(self, config: Config, idx: int):\n",
        "    super().__init__()\n",
        "    self.attn = MultiHeadAttention(config)\n",
        "    self.attn_norm = nn.LayerNorm(config.hidden_size)\n",
        "    self.mlp = MoELayer(\n",
        "        hidden_size=config.hidden_size,\n",
        "        num_experts=config.n_experts,\n",
        "        k=config.k,\n",
        "        idx=idx,\n",
        "        ffn_hidden_size=config.ffn_hidden_size,\n",
        "    )\n",
        "    self.mlp_norm = nn.LayerNorm(config.hidden_size)\n",
        "\n",
        "  def forward(self, x: torch.Tensor) -> torch.Tensor:\n",
        "    h = self.attn_norm(x)\n",
        "    h = self.attn(h)\n",
        "    x = x + h\n",
        "    h = self.mlp_norm(x)\n",
        "    h = self.mlp(h)\n",
        "    x = x + h\n",
        "    return x\n",
        "\n",
        "\n",
        "class Transformer(nn.Module):\n",
        "\n",
        "  def __init__(self, config: Config):\n",
        "    super().__init__()\n",
        "    self.tok_emb = nn.Embedding(config.vocab_size, config.hidden_size)\n",
        "    self.pos_emb = nn.Embedding(config.seq_len, config.hidden_size)\n",
        "    self.blocks = nn.ModuleList(Block(config, i) for i in range(config.n_layers))\n",
        "    self.final_norm = nn.LayerNorm(config.hidden_size)\n",
        "    self.lm_head = nn.Linear(config.hidden_size, config.vocab_size, bias=False)\n",
        "\n",
        "  def forward(self, tokens: torch.Tensor) -> torch.Tensor:\n",
        "    tok_emb = self.tok_emb(tokens)\n",
        "    pos_emb = self._get_pos_embeddings(tokens)\n",
        "\n",
        "    hidden_states = tok_emb + pos_emb\n",
        "\n",
        "    for block in self.blocks:\n",
        "      hidden_states = block(hidden_states)\n",
        "\n",
        "    hidden_states = self.final_norm(hidden_states)\n",
        "    logits = self.lm_head(hidden_states)\n",
        "    return logits\n",
        "\n",
        "  def _get_pos_embeddings(self, tokens: torch.Tensor) -> torch.Tensor:\n",
        "    batch_size, seq_len = tokens.size()\n",
        "    pos_idx = torch.arange(seq_len, device=tokens.device)\n",
        "    pos_emb = self.pos_emb(pos_idx)\n",
        "    return pos_emb\n"
      ]
    },
    {
      "cell_type": "markdown",
      "metadata": {
        "id": "jfOy4OWJxPGa"
      },
      "source": [
        "## Part IV: Training and Evaluation"
      ]
    },
    {
      "cell_type": "code",
      "execution_count": null,
      "metadata": {
        "id": "yA2xMC1HvXtg"
      },
      "outputs": [],
      "source": [
        "def forward(\n",
        "    *,\n",
        "    model: Transformer,\n",
        "    lb_loss_scale: float,\n",
        "    device_type: str,\n",
        "    x: torch.Tensor,\n",
        "    y: torch.Tensor,\n",
        "):\n",
        "  # Runs the model in mixed precision, which improves overall speed\n",
        "  # with minimal performance degradation.\n",
        "  # https://pytorch.org/docs/stable/notes/amp_examples.html#typical-mixed-precision-training\n",
        "  with torch.autocast(device_type=device_type, dtype=torch.float16):\n",
        "    logits = model(x)\n",
        "    logits = einops.rearrange(logits, \"b s e -> (b s) e\")\n",
        "    y = einops.rearrange(y, \"b s -> (b s)\")\n",
        "    ce_loss = F.cross_entropy(logits, y)\n",
        "    lb_loss = torch.tensor(0.0, device=ce_loss.device)\n",
        "    for l in get_lb_losses():\n",
        "      lb_loss += l\n",
        "    lb_loss = lb_loss_scale * lb_loss\n",
        "    loss = ce_loss + lb_loss\n",
        "    clear_lb_losses()\n",
        "\n",
        "  return loss, ce_loss.item(), lb_loss.item()"
      ]
    },
    {
      "cell_type": "code",
      "source": [
        "def train_step(\n",
        "    *,\n",
        "    model: Transformer,\n",
        "    optimizer: torch.optim.Optimizer,\n",
        "    scaler,\n",
        "    lb_loss_scale: float,\n",
        "    device_type: str,\n",
        "    x: torch.Tensor,\n",
        "    y: torch.Tensor,\n",
        "):\n",
        "  loss, ce_loss, lb_loss = forward(\n",
        "    model=model,\n",
        "    lb_loss_scale=lb_loss_scale,\n",
        "    device_type=device_type,\n",
        "    x=x,\n",
        "    y=y)\n",
        "\n",
        "  scaler.scale(loss).backward()\n",
        "\n",
        "  scaler.step(optimizer)\n",
        "\n",
        "  scaler.update()\n",
        "\n",
        "  optimizer.zero_grad(set_to_none=True)\n",
        "\n",
        "  return loss.item(), ce_loss, lb_loss"
      ],
      "metadata": {
        "id": "HcLQcMGaDP4g"
      },
      "execution_count": null,
      "outputs": []
    },
    {
      "cell_type": "code",
      "execution_count": null,
      "metadata": {
        "id": "zlwQIoSuVOln"
      },
      "outputs": [],
      "source": [
        "@torch.no_grad\n",
        "def validate(\n",
        "    *,\n",
        "    model: Transformer,\n",
        "    val_dataloader: torch.utils.data.DataLoader,\n",
        "    lb_loss_scale: float,\n",
        "    device: str,\n",
        "):\n",
        "    model.eval()\n",
        "    total_loss = 0.0\n",
        "    total_ce_loss = 0.0\n",
        "    total_lb_loss = 0.0\n",
        "    for x, y in val_dataloader:\n",
        "        x, y = x.to(device), y.to(device)\n",
        "        loss, ce_loss, lb_loss = forward(\n",
        "            model=model,\n",
        "            lb_loss_scale=lb_loss_scale,\n",
        "            device_type=device,\n",
        "            x=x,\n",
        "            y=y)\n",
        "        total_loss += loss.item()\n",
        "        total_ce_loss += ce_loss\n",
        "        total_lb_loss += lb_loss\n",
        "    total_loss /= len(val_dataloader)\n",
        "    total_ce_loss /= len(val_dataloader)\n",
        "    total_lb_loss /= len(val_dataloader)\n",
        "    clear_lb_losses()\n",
        "    model.train()\n",
        "    return total_loss, total_ce_loss, total_lb_loss"
      ]
    },
    {
      "cell_type": "code",
      "execution_count": null,
      "metadata": {
        "id": "ARtsnw91YoeX"
      },
      "outputs": [],
      "source": [
        "@torch.no_grad\n",
        "def generate(\n",
        "  model: nn.Module,\n",
        "  vocab: Vocabulary,\n",
        "  input: str,\n",
        "  new_tokens: int,\n",
        "  device,\n",
        "):\n",
        "  model.eval()\n",
        "  idx = vocab.encode(input)\n",
        "  idx = torch.tensor(idx, dtype=torch.long, device=device)\n",
        "  idx = einops.rearrange(idx, \"... -> 1 ...\")\n",
        "\n",
        "  for t in range(new_tokens):\n",
        "    # The model only considers the previous seq len characters.\n",
        "    ctx = idx[:, -seq_len:]\n",
        "\n",
        "    with torch.autocast(device_type=device, dtype=torch.float16):\n",
        "      logits = model(ctx)\n",
        "\n",
        "    next_logits = logits[:, -1, :]\n",
        "\n",
        "    next_probs = torch.softmax(next_logits, dim=-1)\n",
        "\n",
        "    next_idx = torch.multinomial(next_probs, num_samples=1)\n",
        "    # append sampled index to the running sequence and continue\n",
        "    idx = torch.cat((idx, next_idx), dim=1)\n",
        "\n",
        "  idx = idx.tolist()[0]\n",
        "  output = vocab.decode(idx)\n",
        "  clear_lb_losses()\n",
        "  model.train()\n",
        "  return output"
      ]
    },
    {
      "cell_type": "code",
      "source": [
        "def run_validation(\n",
        "    *,\n",
        "    model,\n",
        "    val_dataloader,\n",
        "    lb_loss_scale,\n",
        "    device,\n",
        "    val_gen_tokens=100):\n",
        "  val_input = \"\\n\" # Simulate the end of the last paragraph\n",
        "\n",
        "  val_loss, val_ce_loss, val_lb_loss = validate(\n",
        "      model=model,\n",
        "      val_dataloader=val_dataloader,\n",
        "      lb_loss_scale=lb_loss_scale,\n",
        "      device=device,\n",
        "  )\n",
        "  print(\"Validation\", \"-\" * 39)\n",
        "  print(f\"Total loss={val_loss:.3f}, CE loss={val_ce_loss:.3f}, LB loss={val_lb_loss:.3f}\")\n",
        "  print(\"-\" * 50)\n",
        "  return val_loss, val_ce_loss, val_lb_loss"
      ],
      "metadata": {
        "id": "ZkwRanJ1JN-o"
      },
      "execution_count": null,
      "outputs": []
    },
    {
      "cell_type": "code",
      "source": [
        "import random\n",
        "import torch\n",
        "\n",
        "def set_seed(seed = 42):\n",
        "  random.seed(seed)\n",
        "  torch.manual_seed(seed)\n",
        "  torch.set_float32_matmul_precision(\"high\")"
      ],
      "metadata": {
        "id": "Ro7TCXQYJzym"
      },
      "execution_count": null,
      "outputs": []
    },
    {
      "cell_type": "code",
      "execution_count": null,
      "metadata": {
        "id": "W2caBQniwDqq"
      },
      "outputs": [],
      "source": [
        "import torch\n",
        "import torch.cuda\n",
        "import torch.optim\n",
        "import time\n",
        "\n",
        "def train_model(\n",
        "    *,\n",
        "    config = Config(),\n",
        "    lb_loss_scale=0.01,\n",
        "    num_steps=2000,\n",
        "    val_every=500,\n",
        "    log_every=50):\n",
        "\n",
        "  set_seed()\n",
        "\n",
        "  device = \"cuda\" if torch.cuda.is_available() else \"cpu\"\n",
        "  if device == \"cpu\":\n",
        "    print(\"WARNING: Using cpu device, training will be slow\")\n",
        "\n",
        "  train_dataloader = torch.utils.data.DataLoader(\n",
        "      train, batch_size=64, shuffle=True, pin_memory=True, num_workers=2, prefetch_factor=2,\n",
        "  )\n",
        "  val_dataloader = torch.utils.data.DataLoader(\n",
        "      val, batch_size=64, shuffle=False, pin_memory=True, num_workers=2, prefetch_factor=2,\n",
        "  )\n",
        "\n",
        "  model = Transformer(config)\n",
        "\n",
        "  model_params = sum(p.numel() for p in model.parameters())\n",
        "  print(f\"Total parameters: {model_params / 1e6:.2f}M\")\n",
        "\n",
        "  optimizer = torch.optim.AdamW(\n",
        "      model.parameters(), lr=2e-3, weight_decay=0.1, betas=(0.9, 0.95),\n",
        "  )\n",
        "  scaler = torch.amp.GradScaler()\n",
        "  model.to(device)\n",
        "\n",
        "  dataiter = iter(train_dataloader)\n",
        "  start_time = time.time()\n",
        "  start_step = time.time()\n",
        "\n",
        "  train_losses = []\n",
        "  val_losses = []\n",
        "\n",
        "  val_losses.append(run_validation(\n",
        "      model=model,\n",
        "      val_dataloader=val_dataloader,\n",
        "      lb_loss_scale=lb_loss_scale,\n",
        "      device=device,\n",
        "  ))\n",
        "\n",
        "  statistics = []\n",
        "  for step in range(1, num_steps + 1):\n",
        "    x, y = next(dataiter)\n",
        "    x, y = x.to(device), y.to(device)\n",
        "    token_count = x.numel()\n",
        "    with capture_statistics(enable=True):\n",
        "      loss, ce_loss, lb_loss = train_step(\n",
        "          model=model,\n",
        "          optimizer=optimizer,\n",
        "          scaler=scaler,\n",
        "          lb_loss_scale=lb_loss_scale,\n",
        "          device_type=device,\n",
        "          x=x,\n",
        "          y=y)\n",
        "      step_statistics = compute_statistics()\n",
        "      clear_statistics()\n",
        "\n",
        "    train_losses.append((loss, ce_loss, lb_loss))\n",
        "    statistics.append(step_statistics)\n",
        "\n",
        "    step_time = time.time() - start_step\n",
        "    start_step = time.time()\n",
        "    if step % log_every == 0:\n",
        "      completed = step / num_steps * 100\n",
        "      ellapsed = time.time() - start_time\n",
        "      tok_per_sec = token_count / step_time\n",
        "      fmt_ellapsed = time.strftime(\"%H:%M:%S\", time.gmtime(ellapsed))\n",
        "      print(\n",
        "          f\"Step {step}/{num_steps} ({completed:.0f}%): \"\n",
        "          f\"TrainTime={fmt_ellapsed}, \"\n",
        "          f\"Loss={loss:.3f}, \"\n",
        "          f\"Entropy={step_statistics['entropy']:.3}, \"\n",
        "          f\"Unused={step_statistics['unused']}, \"\n",
        "          f\"StepTime={step_time:.2}s\"\n",
        "      )\n",
        "    if step % val_every == 0:\n",
        "      val_losses.append(run_validation(\n",
        "          model=model,\n",
        "          val_dataloader=val_dataloader,\n",
        "          lb_loss_scale=lb_loss_scale,\n",
        "          device=device\n",
        "      ))\n",
        "\n",
        "  test_input = \"\\n\" # Continue to use new line as if beginning a new paragraph\n",
        "  test_gen_len = 1000\n",
        "  test_output = generate(\n",
        "      model,\n",
        "      vocab,\n",
        "      test_input,\n",
        "      test_gen_len,\n",
        "      device\n",
        "  )\n",
        "  print(\"Final generation\", \"-\" * 30)\n",
        "  print(test_output)\n",
        "\n",
        "  return train_losses, val_losses, statistics"
      ]
    },
    {
      "cell_type": "code",
      "execution_count": null,
      "metadata": {
        "id": "DeOkj3UYgf87",
        "colab": {
          "base_uri": "https://localhost:8080/"
        },
        "outputId": "feaa38ad-6460-4f18-e919-8008d2b2d811"
      },
      "outputs": [
        {
          "output_type": "stream",
          "name": "stdout",
          "text": [
            "Total parameters: 8.75M\n",
            "Validation ---------------------------------------\n",
            "Total loss=4.298, CE loss=4.298, LB loss=0.000\n",
            "--------------------------------------------------\n",
            "Step 50/2000 (2%): TrainTime=00:00:21, Loss=2.431, Entropy=0.788, Unused=7, StepTime=0.23s\n",
            "Step 100/2000 (5%): TrainTime=00:00:33, Loss=2.308, Entropy=0.768, Unused=11, StepTime=0.22s\n",
            "Step 150/2000 (8%): TrainTime=00:00:45, Loss=2.134, Entropy=0.752, Unused=11, StepTime=0.23s\n",
            "Step 200/2000 (10%): TrainTime=00:00:58, Loss=1.982, Entropy=0.72, Unused=9, StepTime=0.25s\n",
            "Step 250/2000 (12%): TrainTime=00:01:10, Loss=1.916, Entropy=0.684, Unused=6, StepTime=0.24s\n",
            "Step 300/2000 (15%): TrainTime=00:01:23, Loss=1.794, Entropy=0.654, Unused=6, StepTime=0.23s\n",
            "Step 350/2000 (18%): TrainTime=00:01:35, Loss=1.683, Entropy=0.628, Unused=6, StepTime=0.24s\n",
            "Step 400/2000 (20%): TrainTime=00:01:47, Loss=1.762, Entropy=0.603, Unused=9, StepTime=0.25s\n",
            "Step 450/2000 (22%): TrainTime=00:02:00, Loss=1.695, Entropy=0.594, Unused=12, StepTime=0.22s\n",
            "Step 500/2000 (25%): TrainTime=00:02:12, Loss=1.553, Entropy=0.577, Unused=11, StepTime=0.23s\n",
            "Validation ---------------------------------------\n",
            "Total loss=1.655, CE loss=1.655, LB loss=0.000\n",
            "--------------------------------------------------\n",
            "Step 550/2000 (28%): TrainTime=00:02:26, Loss=1.547, Entropy=0.576, Unused=9, StepTime=0.32s\n",
            "Step 600/2000 (30%): TrainTime=00:02:38, Loss=1.576, Entropy=0.55, Unused=15, StepTime=0.26s\n",
            "Step 650/2000 (32%): TrainTime=00:02:50, Loss=1.606, Entropy=0.54, Unused=14, StepTime=0.22s\n",
            "Step 700/2000 (35%): TrainTime=00:03:02, Loss=1.523, Entropy=0.536, Unused=11, StepTime=0.24s\n",
            "Step 750/2000 (38%): TrainTime=00:03:14, Loss=1.529, Entropy=0.528, Unused=13, StepTime=0.22s\n",
            "Step 800/2000 (40%): TrainTime=00:03:26, Loss=1.493, Entropy=0.532, Unused=13, StepTime=0.22s\n",
            "Step 850/2000 (42%): TrainTime=00:03:38, Loss=1.473, Entropy=0.518, Unused=13, StepTime=0.22s\n",
            "Step 900/2000 (45%): TrainTime=00:03:50, Loss=1.447, Entropy=0.51, Unused=13, StepTime=0.22s\n",
            "Step 950/2000 (48%): TrainTime=00:04:02, Loss=1.463, Entropy=0.51, Unused=14, StepTime=0.22s\n",
            "Step 1000/2000 (50%): TrainTime=00:04:14, Loss=1.462, Entropy=0.504, Unused=15, StepTime=0.21s\n",
            "Validation ---------------------------------------\n",
            "Total loss=1.487, CE loss=1.487, LB loss=0.000\n",
            "--------------------------------------------------\n",
            "Step 1050/2000 (52%): TrainTime=00:04:28, Loss=1.427, Entropy=0.503, Unused=11, StepTime=0.23s\n",
            "Step 1100/2000 (55%): TrainTime=00:04:40, Loss=1.464, Entropy=0.493, Unused=16, StepTime=0.21s\n",
            "Step 1150/2000 (57%): TrainTime=00:04:52, Loss=1.417, Entropy=0.492, Unused=13, StepTime=0.22s\n",
            "Step 1200/2000 (60%): TrainTime=00:05:04, Loss=1.392, Entropy=0.487, Unused=15, StepTime=0.22s\n",
            "Step 1250/2000 (62%): TrainTime=00:05:16, Loss=1.401, Entropy=0.483, Unused=12, StepTime=0.23s\n",
            "Step 1300/2000 (65%): TrainTime=00:05:28, Loss=1.417, Entropy=0.488, Unused=14, StepTime=0.23s\n",
            "Step 1350/2000 (68%): TrainTime=00:05:40, Loss=1.387, Entropy=0.48, Unused=11, StepTime=0.22s\n",
            "Step 1400/2000 (70%): TrainTime=00:05:51, Loss=1.365, Entropy=0.48, Unused=12, StepTime=0.23s\n",
            "Step 1450/2000 (72%): TrainTime=00:06:03, Loss=1.382, Entropy=0.481, Unused=16, StepTime=0.21s\n",
            "Step 1500/2000 (75%): TrainTime=00:06:15, Loss=1.354, Entropy=0.483, Unused=11, StepTime=0.23s\n",
            "Validation ---------------------------------------\n",
            "Total loss=1.434, CE loss=1.434, LB loss=0.000\n",
            "--------------------------------------------------\n",
            "Step 1550/2000 (78%): TrainTime=00:06:29, Loss=1.354, Entropy=0.477, Unused=12, StepTime=0.22s\n",
            "Step 1600/2000 (80%): TrainTime=00:06:41, Loss=1.354, Entropy=0.481, Unused=14, StepTime=0.22s\n",
            "Step 1650/2000 (82%): TrainTime=00:06:53, Loss=1.365, Entropy=0.481, Unused=14, StepTime=0.22s\n",
            "Step 1700/2000 (85%): TrainTime=00:07:04, Loss=1.334, Entropy=0.474, Unused=13, StepTime=0.22s\n",
            "Step 1750/2000 (88%): TrainTime=00:07:16, Loss=1.331, Entropy=0.475, Unused=14, StepTime=0.21s\n",
            "Step 1800/2000 (90%): TrainTime=00:07:28, Loss=1.330, Entropy=0.475, Unused=14, StepTime=0.22s\n",
            "Step 1850/2000 (92%): TrainTime=00:07:40, Loss=1.335, Entropy=0.468, Unused=13, StepTime=0.22s\n",
            "Step 1900/2000 (95%): TrainTime=00:07:51, Loss=1.314, Entropy=0.478, Unused=14, StepTime=0.22s\n",
            "Step 1950/2000 (98%): TrainTime=00:08:03, Loss=1.357, Entropy=0.472, Unused=13, StepTime=0.23s\n",
            "Step 2000/2000 (100%): TrainTime=00:08:15, Loss=1.270, Entropy=0.487, Unused=13, StepTime=0.24s\n",
            "Validation ---------------------------------------\n",
            "Total loss=1.396, CE loss=1.396, LB loss=0.000\n",
            "--------------------------------------------------\n",
            "Final generation ------------------------------\n",
            "\n",
            "ANTONIO:\n",
            "Are you a spring so bodies: you mean, affairs.\n",
            "\n",
            "VOLUMNIA:\n",
            "I hold not know the goveen that, Vayina.'\n",
            "\n",
            "Provost:\n",
            "Has toy; but, because with me?\n",
            "\n",
            "But Gennymen, by God rule, with all razed him.\n",
            "\n",
            "First Citizen:\n",
            "Which have I am tormentant: I must sing to make\n",
            "Amas to strugs with thy hurt so'd for the sage,\n",
            "Who to save three-great war need of bless to the world\n",
            "Is but my tongue and begin themselves of Adage,\n",
            "hill bestrange this moody at cease; within him,\n",
            "And power itch you liefly name tattle credem at.\n",
            "\n",
            "Nurse:\n",
            "My Lord Safelor: 'having; for, what thou hast madods\n",
            "Within this to be sense hind, clear of the good.\n",
            "\n",
            "Citizens:\n",
            "The kings now, which, then hath been patient.\n",
            "\n",
            "First Senator:\n",
            "Now, ere I do my depended in your town up.\n",
            "\n",
            "SICINIUS:\n",
            "Hold?\n",
            "\n",
            "SAMPSOL?\n",
            "\n",
            "Sitizen:\n",
            "Under 'twas well avoided, I be notwered welcome;\n",
            "But thou withst love me and old toge:\n",
            "I' think there fellow. You shall requeror than Vequestia:\n",
            "I tell your behalt lilike thee suft it.\n",
            "\n",
            "First's the minder maid upon thee. So hel\n"
          ]
        }
      ],
      "source": [
        "no_lb_train_losses, no_lb_val_losses, no_lb_statistics = train_model(lb_loss_scale=0.0)"
      ]
    },
    {
      "cell_type": "code",
      "source": [
        "lb_train_losses, lb_val_losses, lb_statistics = train_model(lb_loss_scale=0.01)"
      ],
      "metadata": {
        "id": "2wbp_hrCbrsN",
        "colab": {
          "base_uri": "https://localhost:8080/"
        },
        "outputId": "a9ad98f1-728b-4310-9fdb-b7a8756ee7d5"
      },
      "execution_count": null,
      "outputs": [
        {
          "output_type": "stream",
          "name": "stdout",
          "text": [
            "Total parameters: 8.75M\n",
            "Validation ---------------------------------------\n",
            "Total loss=4.383, CE loss=4.298, LB loss=0.084\n",
            "--------------------------------------------------\n",
            "Step 50/2000 (2%): TrainTime=00:00:15, Loss=2.516, Entropy=0.871, Unused=0, StepTime=0.24s\n",
            "Step 100/2000 (5%): TrainTime=00:00:28, Loss=2.403, Entropy=0.878, Unused=0, StepTime=0.23s\n",
            "Step 150/2000 (8%): TrainTime=00:00:41, Loss=2.219, Entropy=0.851, Unused=0, StepTime=0.24s\n",
            "Step 200/2000 (10%): TrainTime=00:00:53, Loss=2.063, Entropy=0.846, Unused=0, StepTime=0.25s\n",
            "Step 250/2000 (12%): TrainTime=00:01:06, Loss=1.999, Entropy=0.812, Unused=0, StepTime=0.24s\n",
            "Step 300/2000 (15%): TrainTime=00:01:20, Loss=1.862, Entropy=0.789, Unused=0, StepTime=0.34s\n",
            "Step 350/2000 (18%): TrainTime=00:01:33, Loss=1.767, Entropy=0.776, Unused=0, StepTime=0.34s\n",
            "Step 400/2000 (20%): TrainTime=00:01:46, Loss=1.830, Entropy=0.754, Unused=0, StepTime=0.24s\n",
            "Step 450/2000 (22%): TrainTime=00:01:59, Loss=1.768, Entropy=0.74, Unused=0, StepTime=0.24s\n",
            "Step 500/2000 (25%): TrainTime=00:02:12, Loss=1.618, Entropy=0.717, Unused=0, StepTime=0.24s\n",
            "Validation ---------------------------------------\n",
            "Total loss=1.747, CE loss=1.661, LB loss=0.086\n",
            "--------------------------------------------------\n",
            "Step 550/2000 (28%): TrainTime=00:02:28, Loss=1.610, Entropy=0.708, Unused=0, StepTime=0.24s\n",
            "Step 600/2000 (30%): TrainTime=00:02:40, Loss=1.650, Entropy=0.699, Unused=0, StepTime=0.25s\n",
            "Step 650/2000 (32%): TrainTime=00:02:53, Loss=1.670, Entropy=0.692, Unused=0, StepTime=0.24s\n",
            "Step 700/2000 (35%): TrainTime=00:03:06, Loss=1.577, Entropy=0.676, Unused=0, StepTime=0.26s\n",
            "Step 750/2000 (38%): TrainTime=00:03:19, Loss=1.588, Entropy=0.668, Unused=0, StepTime=0.24s\n",
            "Step 800/2000 (40%): TrainTime=00:03:32, Loss=1.556, Entropy=0.657, Unused=0, StepTime=0.25s\n",
            "Step 850/2000 (42%): TrainTime=00:03:45, Loss=1.526, Entropy=0.649, Unused=0, StepTime=0.24s\n",
            "Step 900/2000 (45%): TrainTime=00:03:58, Loss=1.518, Entropy=0.652, Unused=0, StepTime=0.33s\n",
            "Step 950/2000 (48%): TrainTime=00:04:11, Loss=1.532, Entropy=0.646, Unused=0, StepTime=0.33s\n",
            "Step 1000/2000 (50%): TrainTime=00:04:24, Loss=1.521, Entropy=0.638, Unused=0, StepTime=0.36s\n",
            "Validation ---------------------------------------\n",
            "Total loss=1.559, CE loss=1.471, LB loss=0.087\n",
            "--------------------------------------------------\n",
            "Step 1050/2000 (52%): TrainTime=00:04:39, Loss=1.472, Entropy=0.632, Unused=0, StepTime=0.24s\n",
            "Step 1100/2000 (55%): TrainTime=00:04:52, Loss=1.514, Entropy=0.629, Unused=0, StepTime=0.25s\n",
            "Step 1150/2000 (57%): TrainTime=00:05:05, Loss=1.482, Entropy=0.626, Unused=0, StepTime=0.25s\n",
            "Step 1200/2000 (60%): TrainTime=00:05:18, Loss=1.462, Entropy=0.617, Unused=0, StepTime=0.24s\n",
            "Step 1250/2000 (62%): TrainTime=00:05:31, Loss=1.474, Entropy=0.626, Unused=0, StepTime=0.24s\n",
            "Step 1300/2000 (65%): TrainTime=00:05:44, Loss=1.490, Entropy=0.617, Unused=0, StepTime=0.24s\n",
            "Step 1350/2000 (68%): TrainTime=00:05:57, Loss=1.442, Entropy=0.617, Unused=0, StepTime=0.24s\n",
            "Step 1400/2000 (70%): TrainTime=00:06:10, Loss=1.435, Entropy=0.613, Unused=0, StepTime=0.26s\n",
            "Step 1450/2000 (72%): TrainTime=00:06:24, Loss=1.454, Entropy=0.607, Unused=0, StepTime=0.32s\n",
            "Step 1500/2000 (75%): TrainTime=00:06:37, Loss=1.423, Entropy=0.609, Unused=0, StepTime=0.37s\n",
            "Validation ---------------------------------------\n",
            "Total loss=1.525, CE loss=1.437, LB loss=0.088\n",
            "--------------------------------------------------\n",
            "Step 1550/2000 (78%): TrainTime=00:06:53, Loss=1.417, Entropy=0.607, Unused=0, StepTime=0.24s\n",
            "Step 1600/2000 (80%): TrainTime=00:07:06, Loss=1.416, Entropy=0.604, Unused=0, StepTime=0.25s\n",
            "Step 1650/2000 (82%): TrainTime=00:07:19, Loss=1.433, Entropy=0.602, Unused=0, StepTime=0.25s\n",
            "Step 1700/2000 (85%): TrainTime=00:07:33, Loss=1.395, Entropy=0.595, Unused=0, StepTime=0.26s\n",
            "Step 1750/2000 (88%): TrainTime=00:07:46, Loss=1.388, Entropy=0.596, Unused=0, StepTime=0.25s\n",
            "Step 1800/2000 (90%): TrainTime=00:07:59, Loss=1.401, Entropy=0.598, Unused=0, StepTime=0.25s\n",
            "Step 1850/2000 (92%): TrainTime=00:08:12, Loss=1.411, Entropy=0.594, Unused=0, StepTime=0.25s\n",
            "Step 1900/2000 (95%): TrainTime=00:08:25, Loss=1.365, Entropy=0.598, Unused=0, StepTime=0.24s\n",
            "Step 1950/2000 (98%): TrainTime=00:08:38, Loss=1.431, Entropy=0.595, Unused=0, StepTime=0.27s\n",
            "Step 2000/2000 (100%): TrainTime=00:08:51, Loss=1.327, Entropy=0.589, Unused=0, StepTime=0.31s\n",
            "Validation ---------------------------------------\n",
            "Total loss=1.486, CE loss=1.398, LB loss=0.089\n",
            "--------------------------------------------------\n",
            "Final generation ------------------------------\n",
            "\n",
            "As fright against an his sooth?\n",
            "\n",
            "First Citizen:\n",
            "Of war contriqueds I have no skills on government,\n",
            "That waks 'thou' know seemy men must hundred:\n",
            "And now awaken her mutton: rullight my lords,\n",
            "If you might were he is none was her livery,\n",
            "Lent to me assible; inEents as to conspider.\n",
            "\n",
            "TRANIO:\n",
            "As 'tis a wonder, if to the abide rest? sevent so each swore to the\n",
            "provoke your imperition. You marry that have fond 'good is\n",
            "Are ose a setin; therefore patter it.\n",
            "A Citizen: if my truth sollow to a foot wise\n",
            "And scatte ahom; for here an elever.\n",
            "\n",
            "First Sea; what thou, who is: O,\n",
            "You shall be strucken bough with tribsted fit more interest:\n",
            "The timaging of it is helm, for be not full equals!\n",
            "Withy liege, news before her soon,\n",
            "Shall not hang a mighty-dater learning\n",
            "Water tit my all have such a taunt, with subject;\n",
            "For an unprison!\n",
            "Be gone, old lorder, and old grown alms in my decry.\n",
            "\n",
            "POLIXENES:\n",
            "And, where is against thou:\n",
            "I tell you boam'd youls not:--there is my sittly confess to me.\n",
            "\n",
            "ELBOW:\n",
            "Sebalt! my\n"
          ]
        }
      ]
    },
    {
      "cell_type": "code",
      "source": [
        "import matplotlib.pyplot as plt\n",
        "import numpy as np\n",
        "\n",
        "# Create x-axis values for training and validation losses\n",
        "train_steps = list(range(len(lb_train_losses)))\n",
        "num_val_steps = len(lb_val_losses)\n",
        "num_steps = len(train_steps)\n",
        "val_steps = np.linspace(0, num_steps, num_val_steps, dtype=int).tolist()\n",
        "\n",
        "# Extract the losses\n",
        "no_lb_train_loss, no_lb_train_ce_loss, no_lb_train_lb_loss = zip(*no_lb_train_losses)\n",
        "no_lb_val_loss, no_lb_val_ce_loss, no_lb_val_lb_loss = zip(*no_lb_val_losses)\n",
        "\n",
        "lb_train_loss, lb_train_ce_loss, lb_train_lb_loss = zip(*lb_train_losses)\n",
        "lb_val_loss, lb_val_ce_loss, lb_val_lb_loss = zip(*lb_val_losses)\n",
        "\n",
        "\n",
        "fig, axes = plt.subplots(1, 5, figsize=(15, 4))\n",
        "\n",
        "# Plot Cross Entropy Train losses\n",
        "axes[0].plot(train_steps, lb_train_ce_loss, label=\"Yes\")\n",
        "axes[0].plot(train_steps, no_lb_train_ce_loss, label=\"No\")\n",
        "axes[0].set_xlabel(\"Step\")\n",
        "axes[0].set_ylabel(\"Loss\")\n",
        "axes[0].set_title(\"Cross entropy training loss\")\n",
        "axes[0].legend(title=\"Load balancing\")\n",
        "\n",
        "# Plot Cross Entropy Val losses\n",
        "axes[1].plot(val_steps, lb_val_ce_loss, label=\"Yes\")\n",
        "axes[1].plot(val_steps, no_lb_val_ce_loss, label=\"No\")\n",
        "axes[1].set_xlabel(\"Step\")\n",
        "axes[1].set_ylabel(\"Loss\")\n",
        "axes[1].set_title(\"Cross entropy validation loss\")\n",
        "axes[1].legend(title=\"Load balancing\")\n",
        "\n",
        "# Plot router entropies\n",
        "lb_entropy = [s[\"entropy\"] for s in lb_statistics]\n",
        "no_lb_entropy = [s[\"entropy\"] for s in no_lb_statistics]\n",
        "axes[2].plot(train_steps, lb_entropy, label=\"Yes\")\n",
        "axes[2].plot(train_steps, no_lb_entropy, label=\"No\")\n",
        "axes[2].set_xlabel('Step')\n",
        "axes[2].set_ylabel('Entropy')\n",
        "axes[2].set_title('Router entropy')\n",
        "axes[2].legend(title=\"Load balancing\")\n",
        "\n",
        "lb_unused = [s[\"unused\"] for s in lb_statistics]\n",
        "no_lb_unused = [s[\"unused\"] for s in no_lb_statistics]\n",
        "axes[3].plot(train_steps, lb_unused, label=\"Yes\")\n",
        "axes[3].plot(train_steps, no_lb_unused, label=\"No\")\n",
        "axes[3].set_xlabel('Step')\n",
        "axes[3].set_ylabel('Unused')\n",
        "axes[3].set_title('Unused Experts')\n",
        "axes[3].legend(title=\"Load balancing\")\n",
        "\n",
        "# Plot load balancing loss on the second subplot\n",
        "axes[4].plot(train_steps, lb_train_lb_loss, label='Yes')\n",
        "axes[4].set_xlabel('Step')\n",
        "axes[4].set_ylabel('Loss')\n",
        "axes[4].set_title('Load Balancing Loss')\n",
        "axes[4].legend(title=\"Load balancing\")\n",
        "\n",
        "# Adjust layout and display the figure\n",
        "plt.tight_layout()\n",
        "plt.show()"
      ],
      "metadata": {
        "id": "F-o_51xWCIgh",
        "colab": {
          "base_uri": "https://localhost:8080/"
        },
        "outputId": "188ee18f-2851-4e74-da25-dda419c95382"
      },
      "execution_count": null,
      "outputs": [
        {
          "output_type": "display_data",
          "data": {
            "text/plain": [
              "<Figure size 1500x400 with 5 Axes>"
            ],
            "image/png": "[encoded data removed]"
          },
          "metadata": {}
        }
      ]
    },
    {
      "cell_type": "code",
      "source": [],
      "metadata": {
        "id": "xsPbCbsEH0IP"
      },
      "execution_count": null,
      "outputs": []
    }
  ],
  "metadata": {
    "accelerator": "GPU",
    "colab": {
      "collapsed_sections": [
        "yhmbmir2cuCn"
      ],
      "gpuType": "T4",
      "provenance": []
    },
    "kernelspec": {
      "display_name": "Python 3",
      "name": "python3"
    },
    "language_info": {
      "name": "python"
    }
  },
  "nbformat": 4,
  "nbformat_minor": 0
}