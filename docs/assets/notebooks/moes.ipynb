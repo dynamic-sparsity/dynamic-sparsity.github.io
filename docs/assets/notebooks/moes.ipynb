{
  "cells": [
    {
      "cell_type": "markdown",
      "metadata": {
        "id": "Emia6qd0MdJD"
      },
      "source": [
        "# The Sparse Mixture-of-Experts Layer\n",
        "\n"
      ]
    },
    {
      "cell_type": "markdown",
      "metadata": {
        "id": "owbKvxwhcMuO"
      },
      "source": [
        "The [Sparse Mixture-of-Experts](https://arxiv.org/abs/1701.06538) (MoE) layer computes a **sparse** combination of expert modules (usually feed forward networks) for a given input.\n",
        "\n",
        "In this notebook, we provide a walkthorugh for implementing a sparse MoE layer and then show how you can include it in a character-level language model.\n",
        "\n",
        "This notebook is inspired by the makeMoE blog post, available at: https://huggingface.co/blog/AviSoori1x/makemoe-from-scratch.\n",
        "\n",
        "*The following implementations are mearly illustrative and didactic, often at the cost of performance.*"
      ]
    },
    {
      "cell_type": "markdown",
      "metadata": {
        "id": "QjVXjz2xuZsb"
      },
      "source": [
        "## Part I: The Sparse MoE layer"
      ]
    },
    {
      "cell_type": "markdown",
      "metadata": {
        "id": "8Alcezr1Rj8t"
      },
      "source": [
        "The following picture illustrates the Sparse MoE layer where only one expert is selected.\n",
        "\n",
        "![Sparse MoE layer](https://blogger.googleusercontent.com/img/b/R29vZ2xl/AVvXsEhbsjq4iseHi-Azxcj0irBjGkma0yd4geSPPombnJSdd5dyzTguUU2pdFfZu4G38G4F4TiymUOaIkQnXGVAix5x8wF3-9Ov3NJwWaEZNvJY84CWCgU5MbUYI_DjKa_BvalTHu3eyfCJGR89UqwskKngsppDy94Gahz3HAoKLh2vmh-Jzb7ZedRI91OwFw/s960/image1.jpg)"
      ]
    },
    {
      "cell_type": "markdown",
      "metadata": {
        "id": "5xwnxQCQuwRn"
      },
      "source": [
        "> MoE layers combine the output of $n$ expert networks $\\{E_1, \\dots, E_n\\}$ using a gating (or router) function $G$. The following equation defines an MoE layer. It maps an input vector $x$ to a weighted sum of the experts' outputs, where the gating function assigns the weights.\n",
        ">\n",
        "> $$\n",
        "> y = \\sum_{i=1}^{n} G(x)_i E_i(x)\n",
        "> $$\n",
        ">\n",
        "> Sparse MoE layers rely on **sparse gating functions**, which only select a subset of experts. This can be achieved with a sparse gating vector *i.e.*, by assigning some experts 0 weight. Importantly, the *computation for experts assigned zero weight can be skipped*."
      ]
    },
    {
      "cell_type": "markdown",
      "metadata": {
        "id": "V2FzdIgBRhs0"
      },
      "source": [
        "At the core of the sparse MoE layer is its sparse gating (or routing) function, which assigns a weight to each expert.\n",
        "\n",
        "> The sparse gating function $G : \\mathbb{R}^N → \\mathbb{R}^E$ maps an input token to a sparse vector with the weight scores of each expert.\n",
        "\n",
        "A common approach is to learn a linear transformation $W_g^{N \\times E}$ which maps the input token representations to affinity scores for each expert and then select the highest k:\n",
        "\n",
        "$$\n",
        "G(x) = Softmax(KeepTopK(W_g x, k)), \\text{where} \\\\\n",
        "KeepTopK(z, k)_i =\n",
        "\\begin{cases}\n",
        "  z_i & \\text{if $z_i$ in the top $k$ elements of $z$} \\\\\n",
        "  -\\inf & \\text{otherwise}\n",
        "\\end{cases}\n",
        "$$"
      ]
    },
    {
      "cell_type": "code",
      "execution_count": null,
      "metadata": {
        "id": "8mkddr4Rte9y"
      },
      "outputs": [],
      "source": [
        "import torch\n",
        "import torch.nn as nn\n",
        "\n",
        "def topk_scores(gate: nn.Linear, k: int, x: torch.Tensor):\n",
        "    raw_scores = gate(x)\n",
        "    scores = keep_topk(raw_scores, k)\n",
        "    scores = torch.softmax(scores, dim=-1, dtype=torch.float32)\n",
        "    return scores\n",
        "\n",
        "def keep_topk(scores: torch.Tensor, k: int) -> torch.Tensor:\n",
        "    _, topk_indices = scores.topk(k, dim=-1)\n",
        "    assignment = torch.zeros_like(scores, dtype=torch.bool)\n",
        "    assignment.scatter_(-1, topk_indices, True)\n",
        "    return torch.where(assignment, scores, float(\"-inf\"))"
      ]
    },
    {
      "cell_type": "markdown",
      "metadata": {
        "id": "VvqTEtNOe07k"
      },
      "source": [
        "Another component of sparse MoE layers are the experts.\n",
        "\n",
        "> An expert $E : \\mathbb{R}^N → \\mathbb{R}^N$ learns a (usually) non-linear transformation of the input x.\n",
        "\n",
        "In this notebook, we will use a two-layer MLP."
      ]
    },
    {
      "cell_type": "code",
      "execution_count": null,
      "metadata": {
        "id": "ZOnavdvve0Tm"
      },
      "outputs": [],
      "source": [
        "def make_expert(hidden_size, ffn_hidden_size = None):\n",
        "  if ffn_hidden_size is None:\n",
        "    ffn_hidden_size = 4 * hidden_size\n",
        "  return nn.Sequential(\n",
        "      nn.Linear(hidden_size, ffn_hidden_size),\n",
        "      nn.GELU(),\n",
        "      nn.Linear(ffn_hidden_size, hidden_size),\n",
        "  )"
      ]
    },
    {
      "cell_type": "markdown",
      "metadata": {
        "id": "jpdoeQdUgwn4"
      },
      "source": [
        "One important aspect of constructing the experts is ensuring that they only compute the output representations for selected inputs."
      ]
    },
    {
      "cell_type": "code",
      "execution_count": null,
      "metadata": {
        "id": "yi0udYimn5gz"
      },
      "outputs": [],
      "source": [
        "def run_expert(expert: nn.Module, expert_scores: torch.Tensor, x: torch.Tensor) -> torch.Tensor:\n",
        "    # Select the inputs to compute and totally skip the expert if it was not selected.\n",
        "    selected_x = x[expert_scores > 0]\n",
        "    if len(selected_x) == 0:\n",
        "        return None\n",
        "\n",
        "    weights = expert_scores[expert_scores > 0].unsqueeze(-1)\n",
        "\n",
        "    return weights * expert(selected_x)"
      ]
    },
    {
      "cell_type": "markdown",
      "source": [
        "One final component of top-k routing is load balancing. One common way of implementing it is:\n",
        "\n",
        "$$\n",
        "L_{LB} = n \\sum_{i=1}^n f_i \\cdot P_i \\text{, where}\n",
        "$$\n",
        "\n",
        "$f_i$ represents the fraction of tokens routed to expert $i$ and P_i is the average probability over all tokens assigned to expert i.\n",
        "\n",
        "Note that the probabilities are before the gating function."
      ],
      "metadata": {
        "id": "D62D4x2mu0HE"
      }
    },
    {
      "cell_type": "code",
      "source": [
        "def load_balancing_loss(\n",
        "    raw_scores: torch.Tensor, token_assignment: torch.Tensor,\n",
        ") -> torch.Tensor:\n",
        "    _, num_experts = raw_scores.size()\n",
        "    raw_scores = torch.softmax(raw_scores, dim=-1, dtype=torch.float32)\n",
        "\n",
        "    # Compute the fraction of tokens assigned to each expert.\n",
        "    token_fractions = einops.reduce(token_assignment.float(), \"t e -> e\", \"mean\")\n",
        "\n",
        "    # Compute the average weight of each expert.\n",
        "    average_weights = einops.reduce(raw_scores, \"t e -> e\", \"mean\")\n",
        "    return num_experts ** 2 * (token_fractions * average_weights).mean()"
      ],
      "metadata": {
        "id": "kmEr0u_quzn0"
      },
      "execution_count": null,
      "outputs": []
    },
    {
      "cell_type": "markdown",
      "source": [
        "We can now update the `keep_topk` function to include load balancing and save it to a global variable with a losses."
      ],
      "metadata": {
        "id": "fr-kWL3D6q4o"
      }
    },
    {
      "cell_type": "code",
      "source": [
        "def keep_topk(scores: torch.Tensor, k: int) -> torch.Tensor:\n",
        "  _, topk_indices = scores.topk(k, dim=-1)\n",
        "  assignment = torch.zeros_like(scores, dtype=torch.bool)\n",
        "  assignment.scatter_(-1, topk_indices, True)\n",
        "  append_lb_loss(load_balancing_loss(scores, assignment))\n",
        "  return torch.where(assignment, scores, float(\"-inf\"))\n",
        "\n",
        "_lb_losses = []\n",
        "\n",
        "def append_lb_loss(loss: torch.Tensor) -> None:\n",
        "  global _lb_losses\n",
        "  assert (loss >= 0.0).all(), f\"Negative loss: {loss.item()}\"\n",
        "  _lb_losses.append(loss)\n",
        "\n",
        "def get_lb_losses() -> list[torch.Tensor]:\n",
        "  global _lb_losses\n",
        "  return _lb_losses\n",
        "\n",
        "def clear_lb_losses() -> None:\n",
        "  global _lb_losses\n",
        "  _lb_losses = []"
      ],
      "metadata": {
        "id": "F5bWndEs66m4"
      },
      "execution_count": null,
      "outputs": []
    },
    {
      "cell_type": "markdown",
      "metadata": {
        "id": "9699Xpu4pGPC"
      },
      "source": [
        "Putting everything together, we can run a sparse MoE layer by first obtaining the scores and then computing the expert outputs for the selected tokens."
      ]
    },
    {
      "cell_type": "code",
      "execution_count": null,
      "metadata": {
        "id": "IFXW4V_3hrgJ"
      },
      "outputs": [],
      "source": [
        "class MoELayer(nn.Module):\n",
        "  def __init__(\n",
        "      self,\n",
        "      *,\n",
        "      hidden_size: int,\n",
        "      num_experts: int,\n",
        "      k: int,\n",
        "      idx: int,\n",
        "      ffn_hidden_size = None,\n",
        "  ):\n",
        "    super().__init__()\n",
        "    self.gate = nn.Linear(hidden_size, num_experts)\n",
        "    self.experts = nn.ModuleList(\n",
        "        [make_expert(hidden_size, ffn_hidden_size) for _ in range(num_experts)]\n",
        "    )\n",
        "    self.k = k\n",
        "    self.idx = idx\n",
        "\n",
        "  def forward(self, x: torch.Tensor):\n",
        "    # Flatten all dimensions (e.g batch, seq len)\n",
        "    x_flat = x.view(-1, x.size(-1))\n",
        "\n",
        "    scores = topk_scores(self.gate, self.k, x_flat)\n",
        "\n",
        "    outputs = torch.zeros_like(x_flat)\n",
        "    for i, expert in enumerate(self.experts):\n",
        "      expert_scores = scores[:, i]\n",
        "\n",
        "      expert_outputs = run_expert(expert, expert_scores, x_flat)\n",
        "      if expert_outputs is None:\n",
        "        continue\n",
        "\n",
        "      outputs[expert_scores > 0] += expert_outputs\n",
        "\n",
        "    # Recover original dimensions\n",
        "    outputs = outputs.view_as(x)\n",
        "\n",
        "    return outputs"
      ]
    },
    {
      "cell_type": "markdown",
      "metadata": {
        "id": "yhmbmir2cuCn"
      },
      "source": [
        "## Part II: The training data"
      ]
    },
    {
      "cell_type": "markdown",
      "metadata": {
        "id": "c7htNP9Jc0z9"
      },
      "source": [
        "With the sparse MoE layer implemented, we will move towards developing a character level model using that layer. The model will be trained on text from Shakespeare, available at [https://raw.githubusercontent.com/AviSoori1x/makeMoE/main/input.txt\n",
        "](https://raw.githubusercontent.com/AviSoori1x/makeMoE/main/input.txt\n",
        ")."
      ]
    },
    {
      "cell_type": "markdown",
      "metadata": {
        "id": "iPXhhz6weDMt"
      },
      "source": [
        "We will start by downloading and inspecting the data."
      ]
    },
    {
      "cell_type": "code",
      "execution_count": null,
      "metadata": {
        "id": "jiy0tKQfMvUB",
        "colab": {
          "base_uri": "https://localhost:8080/"
        },
        "outputId": "85c9ed2b-9f5a-4b30-b889-2ec33f2b7762"
      },
      "outputs": [
        {
          "output_type": "stream",
          "name": "stdout",
          "text": [
            "--2024-11-07 21:31:10--  https://raw.githubusercontent.com/AviSoori1x/makeMoE/main/input.txt\n",
            "Resolving raw.githubusercontent.com (raw.githubusercontent.com)... 185.199.108.133, 185.199.109.133, 185.199.110.133, ...\n",
            "Connecting to raw.githubusercontent.com (raw.githubusercontent.com)|185.199.108.133|:443... connected.\n",
            "HTTP request sent, awaiting response... 200 OK\n",
            "Length: 1115394 (1.1M) [text/plain]\n",
            "Saving to: ‘input.txt.6’\n",
            "\n",
            "\rinput.txt.6           0%[                    ]       0  --.-KB/s               \rinput.txt.6         100%[===================>]   1.06M  --.-KB/s    in 0.009s  \n",
            "\n",
            "2024-11-07 21:31:10 (119 MB/s) - ‘input.txt.6’ saved [1115394/1115394]\n",
            "\n",
            "Length in characters:  1115394\n",
            "First 100 characters --------------------------------------------------\n",
            "First Citizen:\n",
            "Before we proceed any further, hear me speak.\n",
            "\n",
            "All:\n",
            "Speak, speak.\n",
            "\n",
            "First Citizen:\n",
            "You\n"
          ]
        }
      ],
      "source": [
        "# Downloading the tiny shakespeare dataset\n",
        "!wget https://raw.githubusercontent.com/AviSoori1x/makeMoE/main/input.txt\n",
        "\n",
        "# read it in to inspect it\n",
        "with open('input.txt', 'r', encoding='utf-8') as f:\n",
        "    text = f.read()\n",
        "\n",
        "print(\"Length in characters: \", len(text))\n",
        "\n",
        "# let's look at the first 100 characters\n",
        "print(\"First 100 characters\", \"-\" * 50)\n",
        "print(text[:100])"
      ]
    },
    {
      "cell_type": "markdown",
      "metadata": {
        "id": "7dKUimzLevzp"
      },
      "source": [
        "From here, we can create the model vocabulary, which maps the characters into token ids."
      ]
    },
    {
      "cell_type": "code",
      "execution_count": null,
      "metadata": {
        "id": "W6E7HG-YNigp"
      },
      "outputs": [],
      "source": [
        "class Vocabulary:\n",
        "\n",
        "  def __init__(self, text: str):\n",
        "    chars = set(text)\n",
        "    self.ctoi = {c: i for i, c in enumerate(chars)}\n",
        "    self.itoc = {v: k for k, v in self.ctoi.items()}\n",
        "\n",
        "  def encode(self, text: str) -> list[int]:\n",
        "    return [self.ctoi[t] for t in text]\n",
        "\n",
        "  def decode(self, ids: list[int]) -> str:\n",
        "    return \"\".join(self.itoc[i] for i in ids)\n",
        "\n",
        "  def __len__(self):\n",
        "    return len(self.ctoi)\n",
        "\n",
        "  def __str__(self):\n",
        "    return f\"Vocabulary[size={len(self)}]{self.ctoi}\""
      ]
    },
    {
      "cell_type": "markdown",
      "metadata": {
        "id": "q7pOGTjHfVsY"
      },
      "source": [
        "We can train the vocabulary on the whole training set and some light testing to check that everything is working as expected."
      ]
    },
    {
      "cell_type": "code",
      "execution_count": null,
      "metadata": {
        "id": "E2JtQSvMfcic",
        "colab": {
          "base_uri": "https://localhost:8080/"
        },
        "outputId": "c65b0aa4-f8f2-416c-c3a6-66353f4e9e2d"
      },
      "outputs": [
        {
          "output_type": "stream",
          "name": "stdout",
          "text": [
            "Vocabulary[size=65]{'u': 0, ';': 1, '-': 2, 'z': 3, 'Z': 4, 'Q': 5, 'B': 6, 'V': 7, \"'\": 8, 'E': 9, 'P': 10, 'W': 11, 'U': 12, 'i': 13, '3': 14, 'F': 15, 'j': 16, 'e': 17, 'A': 18, 'K': 19, 'v': 20, 'p': 21, 'o': 22, 'L': 23, 'd': 24, 'X': 25, 'y': 26, '?': 27, ' ': 28, 'f': 29, 'D': 30, ':': 31, 'C': 32, 'c': 33, 'G': 34, 'g': 35, '\\n': 36, 'm': 37, 'k': 38, '!': 39, 'w': 40, 'n': 41, 'l': 42, 'J': 43, 'M': 44, 'N': 45, '$': 46, 'a': 47, 'b': 48, 'O': 49, 'x': 50, 's': 51, '&': 52, 'r': 53, 't': 54, 'S': 55, 'I': 56, 'Y': 57, 'H': 58, '.': 59, 'T': 60, 'R': 61, 'h': 62, 'q': 63, ',': 64}\n"
          ]
        }
      ],
      "source": [
        "vocab = Vocabulary(text)\n",
        "print(vocab)\n",
        "\n",
        "# Test if encoding/decoding work\n",
        "first_chars = text[:1000]\n",
        "encoded = vocab.encode(first_chars)\n",
        "decoded = vocab.decode(encoded)\n",
        "assert first_chars == decoded"
      ]
    },
    {
      "cell_type": "markdown",
      "metadata": {
        "id": "MCWHEgmgfpEg"
      },
      "source": [
        "Afterwards, we can encode the data as a tensor and create a train and validation split."
      ]
    },
    {
      "cell_type": "code",
      "execution_count": null,
      "metadata": {
        "id": "jfmYqseQfoxs",
        "colab": {
          "base_uri": "https://localhost:8080/"
        },
        "outputId": "15dbe08b-5deb-41c6-f6c9-985547884cf5"
      },
      "outputs": [
        {
          "output_type": "stream",
          "name": "stdout",
          "text": [
            "Total tokens: 1115394\n",
            "Train tokens: 1113394\n",
            "Val tokens:  2000\n"
          ]
        }
      ],
      "source": [
        "# Encode all text\n",
        "encoded_text = torch.tensor(vocab.encode(text))\n",
        "print(\"Total tokens:\", encoded_text.size(0))\n",
        "# Split into train and validation\n",
        "val_size = 2000\n",
        "\n",
        "encoded_train = encoded_text[:-val_size]\n",
        "encoded_val = encoded_text[-val_size:]\n",
        "print(\"Train tokens:\", encoded_train.size(0))\n",
        "print(\"Val tokens: \", encoded_val.size(0))"
      ]
    },
    {
      "cell_type": "markdown",
      "metadata": {
        "id": "akQ2Ugf0gb66"
      },
      "source": [
        "From here, we can create the dataset class to iterate the data. Each record will be a chunk of adjacent tokens and the model will learn to predict the next token from the previous ones."
      ]
    },
    {
      "cell_type": "code",
      "execution_count": null,
      "metadata": {
        "id": "7OYYZCc9bj3y",
        "colab": {
          "base_uri": "https://localhost:8080/"
        },
        "outputId": "da80adfc-0a7e-4dd4-e183-83c4b9b93781"
      },
      "outputs": [
        {
          "output_type": "stream",
          "name": "stdout",
          "text": [
            "Train size: 1113329 , val size: 1935\n"
          ]
        }
      ],
      "source": [
        "import torch.utils.data\n",
        "\n",
        "# Predict on block_size contiguous tokens\n",
        "seq_len = 64\n",
        "\n",
        "\n",
        "class ShakespeareDataset(torch.utils.data.Dataset):\n",
        "\n",
        "  def __init__(self, data: torch.Tensor, seq_len: int):\n",
        "    self.data = data\n",
        "    self.seq_len = seq_len\n",
        "\n",
        "\n",
        "  def __getitem__(self, i: int) -> torch.Tensor:\n",
        "    # Account for extra one in LM offset\n",
        "    data = self.data[i:i + self.seq_len + 1]\n",
        "    x = data[:-1]\n",
        "    y = data[1:]\n",
        "    return x, y\n",
        "\n",
        "  def __len__(self):\n",
        "    return len(self.data) - self.seq_len - 1\n",
        "\n",
        "train = ShakespeareDataset(encoded_train, seq_len)\n",
        "val = ShakespeareDataset(encoded_val, seq_len)\n",
        "print(\"Train size:\", len(train), \", val size:\", len(val))"
      ]
    },
    {
      "cell_type": "markdown",
      "metadata": {
        "id": "yOaZZGCICviC"
      },
      "source": [
        "## Part III: The MoE Transformer Model"
      ]
    },
    {
      "cell_type": "markdown",
      "metadata": {
        "id": "AB7YL90ctBwg"
      },
      "source": [
        "Finally, we can create the transformer model with the sparse MoE layer replacing the usual feed forward network.\n",
        "\n",
        "![Transformer architecture](https://www.researchgate.net/publication/373183262/figure/fig2/AS:11431281182174638@1692321759226/Decoder-only-Transformer-architecture-The-input-to-the-decoder-is-tokenized-text-and.png)\n",
        "\n",
        "We start by defining the model configuration.\n",
        "\n",
        "*This network implementation is mearly illustrative.*"
      ]
    },
    {
      "cell_type": "code",
      "execution_count": null,
      "metadata": {
        "id": "7NLfTPutY5ml"
      },
      "outputs": [],
      "source": [
        "import dataclasses\n",
        "\n",
        "@dataclasses.dataclass\n",
        "class Config:\n",
        "  seq_len: int = seq_len\n",
        "  n_layers: int = 4\n",
        "  n_heads: int = 4\n",
        "  hidden_size: int = 128\n",
        "  ffn_hidden_size: int = 256\n",
        "  head_size: int = 32\n",
        "  vocab_size: int = len(vocab)\n",
        "\n",
        "  k: int = 4\n",
        "  normalize_scores: int = True\n",
        "  n_experts: int = 16"
      ]
    },
    {
      "cell_type": "markdown",
      "metadata": {
        "id": "BCuB0WUYuHYd"
      },
      "source": [
        "Afterwards, we define the self-attention mechanism."
      ]
    },
    {
      "cell_type": "code",
      "execution_count": null,
      "metadata": {
        "id": "cg-wikzjuDQr",
        "colab": {
          "base_uri": "https://localhost:8080/"
        },
        "outputId": "3df905e6-4278-45ac-e082-a9fdf835d7dd"
      },
      "outputs": [
        {
          "output_type": "execute_result",
          "data": {
            "text/plain": [
              "torch.Size([4, 8, 128])"
            ]
          },
          "metadata": {},
          "execution_count": 63
        }
      ],
      "source": [
        "import einops\n",
        "import torch.nn as nn\n",
        "import torch.nn.functional as F\n",
        "\n",
        "class MultiHeadAttention(nn.Module):\n",
        "\n",
        "  def __init__(self, config: Config):\n",
        "    super().__init__()\n",
        "    self.config = config\n",
        "    # We have n_head projections, each projecting to head_dim for the queries, keys and values.\n",
        "    self.queries_proj = nn.Linear(config.hidden_size, config.n_heads * config.head_size)\n",
        "    self.keys_proj = nn.Linear(config.hidden_size, config.n_heads * config.head_size)\n",
        "    self.values_proj = nn.Linear(config.hidden_size, config.n_heads * config.head_size)\n",
        "    self.out_proj = nn.Linear(config.n_heads * config.head_size, config.hidden_size)\n",
        "\n",
        "  def forward(self, x: torch.Tensor, is_causal: bool = True, use_sdpa: bool = True):\n",
        "    _, T, _ = x.size()\n",
        "    n_heads, head_dim = self.config.n_heads, self.config.head_size\n",
        "\n",
        "    # Compute projections and split by queries, keys and values.\n",
        "    q, k, v = self.queries_proj(x), self.keys_proj(x), self.values_proj(x)\n",
        "\n",
        "    if use_sdpa:\n",
        "      q = einops.rearrange(q, \"b t (head proj) -> b head t proj\", head=n_heads, proj=head_dim)\n",
        "      k = einops.rearrange(k, \"b t (head proj) -> b head t proj\", head=n_heads, proj=head_dim)\n",
        "      v = einops.rearrange(v, \"b t (head proj) -> b head t proj\", head=n_heads, proj=head_dim)\n",
        "\n",
        "      out = F.scaled_dot_product_attention(q, k, v, dropout_p=0.0, is_causal=is_causal)\n",
        "    else:\n",
        "      q = einops.rearrange(q, \"b t (head proj) -> b t head proj\", head=n_heads, proj=head_dim)\n",
        "      k = einops.rearrange(k, \"b t (head proj) -> b t head proj\", head=n_heads, proj=head_dim)\n",
        "      v = einops.rearrange(v, \"b t (head proj) -> b t head proj\", head=n_heads, proj=head_dim)\n",
        "\n",
        "      # Compute unnormalized attention scores\n",
        "      a = einops.einsum(q, k, \"b query head proj, b key head proj -> b head query key\") # (b, n_heads, T, T)\n",
        "      a = a / head_dim ** 0.5 # (b, n_heads, T, T)\n",
        "      # Mask future tokens\n",
        "      if is_causal:\n",
        "        mask = torch.tril(torch.ones((T, T), dtype=torch.bool, device=x.device))\n",
        "        a = torch.masked_fill(a, mask == 0, float(\"-inf\")) # (b, n_heads, T, T)\n",
        "      # Compute attention weights\n",
        "      a = torch.softmax(a, dim=-1) # (b, n_heads, T, T)\n",
        "\n",
        "      # Compute attention values\n",
        "      out = einops.einsum(a, v, \"b head query key, batch key head proj -> b head query proj\")\n",
        "\n",
        "    # Reorder to have all head values for token together\n",
        "    out = einops.rearrange(out, \"b head time proj -> b time (head proj)\")\n",
        "\n",
        "    # Compute the final projection\n",
        "    out = self.out_proj(out)\n",
        "    return out\n",
        "\n",
        "config = Config()\n",
        "attn = MultiHeadAttention(config)\n",
        "input = torch.rand(4, 8, config.hidden_size)\n",
        "out = attn(input, is_causal=True)\n",
        "out.size()"
      ]
    },
    {
      "cell_type": "markdown",
      "metadata": {
        "id": "_lGdWenOxAlz"
      },
      "source": [
        "Finally, we define the block module and the full transformer.\n",
        "\n",
        "For this example, we use learnt embeddings to represent positional information in the transformer."
      ]
    },
    {
      "cell_type": "code",
      "execution_count": null,
      "metadata": {
        "id": "SagYJ1_XsQ75"
      },
      "outputs": [],
      "source": [
        "class Block(nn.Module):\n",
        "\n",
        "  def __init__(self, config: Config, idx: int):\n",
        "    super().__init__()\n",
        "    self.attn = MultiHeadAttention(config)\n",
        "    self.attn_norm = nn.LayerNorm(config.hidden_size)\n",
        "    self.mlp = MoELayer(\n",
        "        hidden_size=config.hidden_size,\n",
        "        num_experts=config.n_experts,\n",
        "        k=config.k,\n",
        "        idx=idx,\n",
        "        ffn_hidden_size=config.ffn_hidden_size,\n",
        "    )\n",
        "    self.mlp_norm = nn.LayerNorm(config.hidden_size)\n",
        "\n",
        "  def forward(self, x: torch.Tensor) -> torch.Tensor:\n",
        "    h = self.attn_norm(x)\n",
        "    h = self.attn(h, use_sdpa=True)\n",
        "    x = x + h\n",
        "    h = self.mlp_norm(x)\n",
        "    h = self.mlp(h)\n",
        "    x = x + h\n",
        "    return x\n",
        "\n",
        "\n",
        "class Transformer(nn.Module):\n",
        "\n",
        "  def __init__(self, config: Config):\n",
        "    super().__init__()\n",
        "    self.tok_emb = nn.Embedding(config.vocab_size, config.hidden_size)\n",
        "    self.pos_emb = nn.Embedding(config.seq_len, config.hidden_size)\n",
        "    self.blocks = nn.ModuleList(Block(config, i) for i in range(config.n_layers))\n",
        "    self.final_norm = nn.LayerNorm(config.hidden_size)\n",
        "    self.lm_head = nn.Linear(config.hidden_size, config.vocab_size, bias=False)\n",
        "\n",
        "  def forward(self, tokens: torch.Tensor) -> torch.Tensor:\n",
        "    tok_emb = self.tok_emb(tokens)\n",
        "    pos_emb = self._get_pos_embeddings(tokens)\n",
        "\n",
        "    hidden_states = tok_emb + pos_emb\n",
        "\n",
        "    for block in self.blocks:\n",
        "      hidden_states = block(hidden_states)\n",
        "\n",
        "    hidden_states = self.final_norm(hidden_states)\n",
        "    logits = self.lm_head(hidden_states)\n",
        "    return logits\n",
        "\n",
        "  def _get_pos_embeddings(self, tokens: torch.Tensor) -> torch.Tensor:\n",
        "    batch_size, seq_len = tokens.size()\n",
        "    pos_idx = torch.arange(seq_len, device=tokens.device)\n",
        "    pos_emb = self.pos_emb(pos_idx)\n",
        "    return pos_emb\n"
      ]
    },
    {
      "cell_type": "markdown",
      "metadata": {
        "id": "jfOy4OWJxPGa"
      },
      "source": [
        "## Part IV: Training and Evaluation"
      ]
    },
    {
      "cell_type": "code",
      "execution_count": null,
      "metadata": {
        "id": "yA2xMC1HvXtg"
      },
      "outputs": [],
      "source": [
        "def forward(\n",
        "    *,\n",
        "    model: Transformer,\n",
        "    lb_loss_scale: float,\n",
        "    device_type: str,\n",
        "    x: torch.Tensor,\n",
        "    y: torch.Tensor,\n",
        "):\n",
        "  # Runs the model in mixed precision, which improves overall speed\n",
        "  # with minimal performance degradation.\n",
        "  # https://pytorch.org/docs/stable/notes/amp_examples.html#typical-mixed-precision-training\n",
        "  with torch.autocast(device_type=device_type, dtype=torch.float16):\n",
        "    logits = model(x)\n",
        "    logits = einops.rearrange(logits, \"b s e -> (b s) e\")\n",
        "    y = einops.rearrange(y, \"b s -> (b s)\")\n",
        "    ce_loss = F.cross_entropy(logits, y)\n",
        "    lb_loss = torch.tensor(0.0, device=ce_loss.device)\n",
        "    for l in get_lb_losses():\n",
        "      lb_loss += l\n",
        "    lb_loss = lb_loss_scale * lb_loss\n",
        "    loss = ce_loss + lb_loss\n",
        "    clear_lb_losses()\n",
        "\n",
        "  return loss, ce_loss.item(), lb_loss.item()"
      ]
    },
    {
      "cell_type": "code",
      "source": [
        "def train_step(\n",
        "    *,\n",
        "    model: Transformer,\n",
        "    optimizer: torch.optim.Optimizer,\n",
        "    scaler,\n",
        "    lb_loss_scale: float,\n",
        "    device_type: str,\n",
        "    x: torch.Tensor,\n",
        "    y: torch.Tensor,\n",
        "):\n",
        "  loss, ce_loss, lb_loss = forward(\n",
        "    model=model,\n",
        "    lb_loss_scale=lb_loss_scale,\n",
        "    device_type=device_type,\n",
        "    x=x,\n",
        "    y=y)\n",
        "\n",
        "  scaler.scale(loss).backward()\n",
        "\n",
        "  scaler.step(optimizer)\n",
        "\n",
        "  scaler.update()\n",
        "\n",
        "  optimizer.zero_grad(set_to_none=True)\n",
        "\n",
        "  return loss.item(), ce_loss, lb_loss"
      ],
      "metadata": {
        "id": "HcLQcMGaDP4g"
      },
      "execution_count": null,
      "outputs": []
    },
    {
      "cell_type": "code",
      "execution_count": null,
      "metadata": {
        "id": "zlwQIoSuVOln"
      },
      "outputs": [],
      "source": [
        "@torch.no_grad\n",
        "def validate(\n",
        "    *,\n",
        "    model: Transformer,\n",
        "    val_dataloader: torch.utils.data.DataLoader,\n",
        "    lb_loss_scale: float,\n",
        "    device_type: str,\n",
        "):\n",
        "    model.eval()\n",
        "    total_loss = 0.0\n",
        "    total_ce_loss = 0.0\n",
        "    total_lb_loss = 0.0\n",
        "    for x, y in val_dataloader:\n",
        "        x, y = x.to(device), y.to(device)\n",
        "        loss, ce_loss, lb_loss = forward(\n",
        "            model=model,\n",
        "            lb_loss_scale=lb_loss_scale,\n",
        "            device_type=device_type,\n",
        "            x=x,\n",
        "            y=y)\n",
        "        total_loss += loss.item()\n",
        "        total_ce_loss += ce_loss\n",
        "        total_lb_loss += lb_loss\n",
        "    total_loss /= len(val_dataloader)\n",
        "    total_ce_loss /= len(val_dataloader)\n",
        "    total_lb_loss /= len(val_dataloader)\n",
        "    clear_lb_losses()\n",
        "    model.train()\n",
        "    return total_loss, total_ce_loss, total_lb_loss"
      ]
    },
    {
      "cell_type": "code",
      "execution_count": null,
      "metadata": {
        "id": "ARtsnw91YoeX"
      },
      "outputs": [],
      "source": [
        "@torch.no_grad\n",
        "def generate(\n",
        "  model: nn.Module,\n",
        "  vocab: Vocabulary,\n",
        "  input: str,\n",
        "  new_tokens: int,\n",
        "  device_type,\n",
        "):\n",
        "  model.eval()\n",
        "  idx = vocab.encode(input)\n",
        "  idx = torch.tensor(idx, dtype=torch.long, device=device)\n",
        "  idx = einops.rearrange(idx, \"... -> 1 ...\")\n",
        "\n",
        "  for t in range(new_tokens):\n",
        "    # The model only considers the previous seq len characters.\n",
        "    ctx = idx[:, -seq_len:]\n",
        "\n",
        "    with torch.autocast(device_type=device_type, dtype=torch.float16):\n",
        "      logits = model(ctx)\n",
        "\n",
        "    next_logits = logits[:, -1, :]\n",
        "\n",
        "    next_probs = torch.softmax(next_logits, dim=-1)\n",
        "\n",
        "    next_idx = torch.multinomial(next_probs, num_samples=1)\n",
        "    # append sampled index to the running sequence and continue\n",
        "    idx = torch.cat((idx, next_idx), dim=1)\n",
        "\n",
        "  idx = idx.tolist()[0]\n",
        "  output = vocab.decode(idx)\n",
        "  clear_lb_losses()\n",
        "  model.train()\n",
        "  return output"
      ]
    },
    {
      "cell_type": "code",
      "execution_count": null,
      "metadata": {
        "colab": {
          "base_uri": "https://localhost:8080/"
        },
        "id": "W2caBQniwDqq",
        "outputId": "2487a456-e477-480a-a9d5-28087229bfac"
      },
      "outputs": [
        {
          "output_type": "stream",
          "name": "stdout",
          "text": [
            "Total parameters: 4.52M\n",
            "Validation ----------------------------------------\n",
            "Total loss: 4.471826907127134\n",
            "CE loss: 4.3057933622790925\n",
            "LB loss: 0.1660335539810119\n",
            "Output ------------------------------\n",
            "lAE.;PJWM&\n",
            "w,j QF&CZ-VHQ.mrcllED!WxSCccB mPqeOoB.-3JkjLscerVZm:EhLxEt?RaEFwXpLpC zOSINOJt witmUo'gKpnreqWBJLJlXTqDlz xpOvsZnyeqAaObXtYpwZ$ OmZsc!tjvAX.ISkb?XANtYvAh mPnBSWOVvlFXJby lAaJCRVTQwR.?re$TnJ\n",
            "--------------------------------------------------\n",
            "Step 10/2500 (0%): TrainTime=00:00:11, Loss=3.0564, TokensPerSec=25492, StepTime=0.16s\n",
            "Step 20/2500 (1%): TrainTime=00:00:13, Loss=2.7540, TokensPerSec=18587, StepTime=0.22s\n",
            "Step 30/2500 (1%): TrainTime=00:00:15, Loss=2.7276, TokensPerSec=29404, StepTime=0.14s\n",
            "Step 40/2500 (2%): TrainTime=00:00:16, Loss=2.6466, TokensPerSec=24925, StepTime=0.16s\n",
            "Step 50/2500 (2%): TrainTime=00:00:18, Loss=2.6029, TokensPerSec=26793, StepTime=0.15s\n",
            "Step 60/2500 (2%): TrainTime=00:00:19, Loss=2.5858, TokensPerSec=29737, StepTime=0.14s\n",
            "Step 70/2500 (3%): TrainTime=00:00:20, Loss=2.5636, TokensPerSec=28134, StepTime=0.15s\n",
            "Step 80/2500 (3%): TrainTime=00:00:22, Loss=2.5251, TokensPerSec=29967, StepTime=0.14s\n",
            "Step 90/2500 (4%): TrainTime=00:00:23, Loss=2.4925, TokensPerSec=29025, StepTime=0.14s\n",
            "Step 100/2500 (4%): TrainTime=00:00:25, Loss=2.4415, TokensPerSec=21161, StepTime=0.19s\n",
            "Step 110/2500 (4%): TrainTime=00:00:27, Loss=2.4267, TokensPerSec=29799, StepTime=0.14s\n",
            "Step 120/2500 (5%): TrainTime=00:00:28, Loss=2.3853, TokensPerSec=30933, StepTime=0.13s\n",
            "Step 130/2500 (5%): TrainTime=00:00:30, Loss=2.3544, TokensPerSec=29583, StepTime=0.14s\n",
            "Step 140/2500 (6%): TrainTime=00:00:31, Loss=2.3365, TokensPerSec=29874, StepTime=0.14s\n",
            "Step 150/2500 (6%): TrainTime=00:00:32, Loss=2.2684, TokensPerSec=30343, StepTime=0.13s\n",
            "Step 160/2500 (6%): TrainTime=00:00:34, Loss=2.2557, TokensPerSec=26310, StepTime=0.16s\n",
            "Step 170/2500 (7%): TrainTime=00:00:35, Loss=2.2328, TokensPerSec=30570, StepTime=0.13s\n",
            "Step 180/2500 (7%): TrainTime=00:00:37, Loss=2.2057, TokensPerSec=22512, StepTime=0.18s\n",
            "Step 190/2500 (8%): TrainTime=00:00:39, Loss=2.1958, TokensPerSec=29558, StepTime=0.14s\n",
            "Step 200/2500 (8%): TrainTime=00:00:40, Loss=2.1296, TokensPerSec=29593, StepTime=0.14s\n",
            "Step 210/2500 (8%): TrainTime=00:00:42, Loss=2.1506, TokensPerSec=28770, StepTime=0.14s\n",
            "Step 220/2500 (9%): TrainTime=00:00:43, Loss=2.1353, TokensPerSec=30511, StepTime=0.13s\n",
            "Step 230/2500 (9%): TrainTime=00:00:44, Loss=2.0432, TokensPerSec=27489, StepTime=0.15s\n",
            "Step 240/2500 (10%): TrainTime=00:00:46, Loss=2.0226, TokensPerSec=30588, StepTime=0.13s\n",
            "Step 250/2500 (10%): TrainTime=00:00:47, Loss=2.0801, TokensPerSec=28615, StepTime=0.14s\n",
            "Validation ----------------------------------------\n",
            "Total loss: 2.126293774574034\n",
            "CE loss: 1.9619677951258998\n",
            "LB loss: 0.16432598185154698\n",
            "Output ------------------------------\n",
            "The would you to now sunce some\n",
            "Then byse hess faps: not, I knoy onear, to eve.\n",
            "\n",
            "HENIZAUS:\n",
            "Where mere ore, by whorke dowlate:\n",
            "Dt than weas bery, I bead, mare, a son, old tryeage,\n",
            "Who withy bare we'lt \n",
            "--------------------------------------------------\n",
            "Step 260/2500 (10%): TrainTime=00:00:59, Loss=2.0147, TokensPerSec=30782, StepTime=0.13s\n",
            "Step 270/2500 (11%): TrainTime=00:01:00, Loss=2.0294, TokensPerSec=31001, StepTime=0.13s\n",
            "Step 280/2500 (11%): TrainTime=00:01:02, Loss=2.0436, TokensPerSec=21698, StepTime=0.19s\n",
            "Step 290/2500 (12%): TrainTime=00:01:03, Loss=1.9678, TokensPerSec=28601, StepTime=0.14s\n",
            "Step 300/2500 (12%): TrainTime=00:01:05, Loss=1.9918, TokensPerSec=30541, StepTime=0.13s\n",
            "Step 310/2500 (12%): TrainTime=00:01:06, Loss=1.9353, TokensPerSec=29869, StepTime=0.14s\n",
            "Step 320/2500 (13%): TrainTime=00:01:08, Loss=1.9171, TokensPerSec=30481, StepTime=0.13s\n",
            "Step 330/2500 (13%): TrainTime=00:01:09, Loss=1.9302, TokensPerSec=30490, StepTime=0.13s\n",
            "Step 340/2500 (14%): TrainTime=00:01:10, Loss=1.8612, TokensPerSec=31095, StepTime=0.13s\n",
            "Step 350/2500 (14%): TrainTime=00:01:12, Loss=1.8735, TokensPerSec=29680, StepTime=0.14s\n",
            "Step 360/2500 (14%): TrainTime=00:01:13, Loss=1.8343, TokensPerSec=30205, StepTime=0.14s\n",
            "Step 370/2500 (15%): TrainTime=00:01:15, Loss=1.8476, TokensPerSec=18861, StepTime=0.22s\n",
            "Step 380/2500 (15%): TrainTime=00:01:17, Loss=1.8070, TokensPerSec=30508, StepTime=0.13s\n",
            "Step 390/2500 (16%): TrainTime=00:01:18, Loss=1.8178, TokensPerSec=28378, StepTime=0.14s\n",
            "Step 400/2500 (16%): TrainTime=00:01:19, Loss=1.7871, TokensPerSec=30023, StepTime=0.14s\n",
            "Step 410/2500 (16%): TrainTime=00:01:21, Loss=1.8116, TokensPerSec=29967, StepTime=0.14s\n",
            "Step 420/2500 (17%): TrainTime=00:01:22, Loss=1.8110, TokensPerSec=27944, StepTime=0.15s\n",
            "Step 430/2500 (17%): TrainTime=00:01:24, Loss=1.7520, TokensPerSec=29446, StepTime=0.14s\n",
            "Step 440/2500 (18%): TrainTime=00:01:25, Loss=1.8285, TokensPerSec=30763, StepTime=0.13s\n",
            "Step 450/2500 (18%): TrainTime=00:01:27, Loss=1.8407, TokensPerSec=24127, StepTime=0.17s\n",
            "Step 460/2500 (18%): TrainTime=00:01:28, Loss=1.7575, TokensPerSec=28383, StepTime=0.14s\n",
            "Step 470/2500 (19%): TrainTime=00:01:30, Loss=1.7985, TokensPerSec=29646, StepTime=0.14s\n",
            "Step 480/2500 (19%): TrainTime=00:01:31, Loss=1.7795, TokensPerSec=29276, StepTime=0.14s\n",
            "Step 490/2500 (20%): TrainTime=00:01:33, Loss=1.7830, TokensPerSec=29908, StepTime=0.14s\n",
            "Step 500/2500 (20%): TrainTime=00:01:34, Loss=1.8003, TokensPerSec=30190, StepTime=0.14s\n",
            "Validation ----------------------------------------\n",
            "Total loss: 1.8286894252223354\n",
            "CE loss: 1.6627081786432574\n",
            "LB loss: 0.16598124129156913\n",
            "Output ------------------------------\n",
            "ROMEO:\n",
            "My lady, dest canness ware Godfetion headys prokelows.\n",
            "\n",
            "DUKE VINCENTIO:\n",
            "comp, that is here a milica child\n",
            "hyquewly grant: sind him out him to beas?\n",
            "\n",
            "BENVOLIO:\n",
            "Which forth! Whe scolve it. O your\n",
            "--------------------------------------------------\n",
            "Step 510/2500 (20%): TrainTime=00:01:46, Loss=1.7391, TokensPerSec=29685, StepTime=0.14s\n",
            "Step 520/2500 (21%): TrainTime=00:01:47, Loss=1.7070, TokensPerSec=28448, StepTime=0.14s\n",
            "Step 530/2500 (21%): TrainTime=00:01:48, Loss=1.7209, TokensPerSec=29877, StepTime=0.14s\n",
            "Step 540/2500 (22%): TrainTime=00:01:50, Loss=1.7281, TokensPerSec=30430, StepTime=0.13s\n",
            "Step 550/2500 (22%): TrainTime=00:01:51, Loss=1.7284, TokensPerSec=24048, StepTime=0.17s\n",
            "Step 560/2500 (22%): TrainTime=00:01:53, Loss=1.6928, TokensPerSec=27580, StepTime=0.15s\n",
            "Step 570/2500 (23%): TrainTime=00:01:55, Loss=1.7573, TokensPerSec=30806, StepTime=0.13s\n",
            "Step 580/2500 (23%): TrainTime=00:01:56, Loss=1.7533, TokensPerSec=30199, StepTime=0.14s\n",
            "Step 590/2500 (24%): TrainTime=00:01:57, Loss=1.6973, TokensPerSec=27635, StepTime=0.15s\n",
            "Step 600/2500 (24%): TrainTime=00:01:59, Loss=1.7016, TokensPerSec=29990, StepTime=0.14s\n",
            "Step 610/2500 (24%): TrainTime=00:02:00, Loss=1.7177, TokensPerSec=30034, StepTime=0.14s\n",
            "Step 620/2500 (25%): TrainTime=00:02:02, Loss=1.6531, TokensPerSec=30636, StepTime=0.13s\n",
            "Step 630/2500 (25%): TrainTime=00:02:03, Loss=1.6276, TokensPerSec=23801, StepTime=0.17s\n",
            "Step 640/2500 (26%): TrainTime=00:02:05, Loss=1.6916, TokensPerSec=20300, StepTime=0.2s\n",
            "Step 650/2500 (26%): TrainTime=00:02:06, Loss=1.7275, TokensPerSec=30852, StepTime=0.13s\n",
            "Step 660/2500 (26%): TrainTime=00:02:08, Loss=1.7174, TokensPerSec=29776, StepTime=0.14s\n",
            "Step 670/2500 (27%): TrainTime=00:02:09, Loss=1.6803, TokensPerSec=30290, StepTime=0.14s\n",
            "Step 680/2500 (27%): TrainTime=00:02:10, Loss=1.6744, TokensPerSec=30795, StepTime=0.13s\n",
            "Step 690/2500 (28%): TrainTime=00:02:12, Loss=1.6900, TokensPerSec=29732, StepTime=0.14s\n",
            "Step 700/2500 (28%): TrainTime=00:02:13, Loss=1.6796, TokensPerSec=30337, StepTime=0.14s\n",
            "Step 710/2500 (28%): TrainTime=00:02:15, Loss=1.6583, TokensPerSec=29737, StepTime=0.14s\n",
            "Step 720/2500 (29%): TrainTime=00:02:16, Loss=1.6646, TokensPerSec=23954, StepTime=0.17s\n",
            "Step 730/2500 (29%): TrainTime=00:02:18, Loss=1.6669, TokensPerSec=29972, StepTime=0.14s\n",
            "Step 740/2500 (30%): TrainTime=00:02:20, Loss=1.6689, TokensPerSec=29617, StepTime=0.14s\n",
            "Step 750/2500 (30%): TrainTime=00:02:21, Loss=1.6087, TokensPerSec=28717, StepTime=0.14s\n",
            "Validation ----------------------------------------\n",
            "Total loss: 1.740233056006893\n",
            "CE loss: 1.574640577839267\n",
            "LB loss: 0.16559248345513497\n",
            "Output ------------------------------\n",
            "For him not then your woulding are you kneard awhat us.\n",
            "So grace, not from promisance! Let shall piece\n",
            "On well as act lipe. Thy nature, now soul gracious these\n",
            "You did yearn made, a torb steens toot, \n",
            "--------------------------------------------------\n",
            "Step 760/2500 (30%): TrainTime=00:02:33, Loss=1.6037, TokensPerSec=29628, StepTime=0.14s\n",
            "Step 770/2500 (31%): TrainTime=00:02:34, Loss=1.6571, TokensPerSec=30082, StepTime=0.14s\n",
            "Step 780/2500 (31%): TrainTime=00:02:35, Loss=1.7397, TokensPerSec=30370, StepTime=0.13s\n",
            "Step 790/2500 (32%): TrainTime=00:02:37, Loss=1.6222, TokensPerSec=30704, StepTime=0.13s\n",
            "Step 800/2500 (32%): TrainTime=00:02:38, Loss=1.6358, TokensPerSec=29667, StepTime=0.14s\n",
            "Step 810/2500 (32%): TrainTime=00:02:39, Loss=1.6497, TokensPerSec=29973, StepTime=0.14s\n",
            "Step 820/2500 (33%): TrainTime=00:02:41, Loss=1.6105, TokensPerSec=23890, StepTime=0.17s\n",
            "Step 830/2500 (33%): TrainTime=00:02:43, Loss=1.6463, TokensPerSec=29558, StepTime=0.14s\n",
            "Step 840/2500 (34%): TrainTime=00:02:44, Loss=1.6119, TokensPerSec=29848, StepTime=0.14s\n",
            "Step 850/2500 (34%): TrainTime=00:02:46, Loss=1.6764, TokensPerSec=27362, StepTime=0.15s\n",
            "Step 860/2500 (34%): TrainTime=00:02:47, Loss=1.6084, TokensPerSec=30442, StepTime=0.13s\n",
            "Step 870/2500 (35%): TrainTime=00:02:49, Loss=1.6022, TokensPerSec=28316, StepTime=0.14s\n",
            "Step 880/2500 (35%): TrainTime=00:02:50, Loss=1.6065, TokensPerSec=30376, StepTime=0.13s\n",
            "Step 890/2500 (36%): TrainTime=00:02:51, Loss=1.6020, TokensPerSec=30523, StepTime=0.13s\n",
            "Step 900/2500 (36%): TrainTime=00:02:53, Loss=1.5827, TokensPerSec=19436, StepTime=0.21s\n",
            "Step 910/2500 (36%): TrainTime=00:02:55, Loss=1.6496, TokensPerSec=22348, StepTime=0.18s\n",
            "Step 920/2500 (37%): TrainTime=00:02:56, Loss=1.6175, TokensPerSec=29205, StepTime=0.14s\n",
            "Step 930/2500 (37%): TrainTime=00:02:58, Loss=1.6441, TokensPerSec=28441, StepTime=0.14s\n",
            "Step 940/2500 (38%): TrainTime=00:02:59, Loss=1.6200, TokensPerSec=29290, StepTime=0.14s\n",
            "Step 950/2500 (38%): TrainTime=00:03:01, Loss=1.5890, TokensPerSec=29655, StepTime=0.14s\n",
            "Step 960/2500 (38%): TrainTime=00:03:02, Loss=1.6025, TokensPerSec=29802, StepTime=0.14s\n",
            "Step 970/2500 (39%): TrainTime=00:03:04, Loss=1.5900, TokensPerSec=28961, StepTime=0.14s\n",
            "Step 980/2500 (39%): TrainTime=00:03:05, Loss=1.6188, TokensPerSec=26246, StepTime=0.16s\n",
            "Step 990/2500 (40%): TrainTime=00:03:07, Loss=1.5705, TokensPerSec=20667, StepTime=0.2s\n",
            "Step 1000/2500 (40%): TrainTime=00:03:09, Loss=1.5899, TokensPerSec=27362, StepTime=0.15s\n",
            "Validation ----------------------------------------\n",
            "Total loss: 1.644521694029531\n",
            "CE loss: 1.4789805643020137\n",
            "LB loss: 0.16554113837980455\n",
            "Output ------------------------------\n",
            "The heaven to power!\n",
            "\n",
            "ISABELLA:\n",
            "What 'tis it an arch never bed the and wind.\n",
            "\n",
            "POLIXENES:\n",
            "She dissibn in me!\n",
            "\n",
            "LADY CAPULET:\n",
            "\n",
            "Second Molseem Forth W-torMague\n",
            "Trust still be tood countion out in Parency,\n",
            "--------------------------------------------------\n",
            "Step 1010/2500 (40%): TrainTime=00:03:20, Loss=1.5883, TokensPerSec=29409, StepTime=0.14s\n",
            "Step 1020/2500 (41%): TrainTime=00:03:22, Loss=1.5785, TokensPerSec=29723, StepTime=0.14s\n",
            "Step 1030/2500 (41%): TrainTime=00:03:23, Loss=1.5555, TokensPerSec=28835, StepTime=0.14s\n",
            "Step 1040/2500 (42%): TrainTime=00:03:25, Loss=1.6062, TokensPerSec=29473, StepTime=0.14s\n",
            "Step 1050/2500 (42%): TrainTime=00:03:26, Loss=1.5335, TokensPerSec=28000, StepTime=0.15s\n",
            "Step 1060/2500 (42%): TrainTime=00:03:27, Loss=1.6310, TokensPerSec=29437, StepTime=0.14s\n",
            "Step 1070/2500 (43%): TrainTime=00:03:29, Loss=1.5893, TokensPerSec=30145, StepTime=0.14s\n",
            "Step 1080/2500 (43%): TrainTime=00:03:30, Loss=1.6111, TokensPerSec=22756, StepTime=0.18s\n",
            "Step 1090/2500 (44%): TrainTime=00:03:32, Loss=1.5748, TokensPerSec=27740, StepTime=0.15s\n",
            "Step 1100/2500 (44%): TrainTime=00:03:34, Loss=1.6042, TokensPerSec=30011, StepTime=0.14s\n",
            "Step 1110/2500 (44%): TrainTime=00:03:35, Loss=1.5993, TokensPerSec=26252, StepTime=0.16s\n",
            "Step 1120/2500 (45%): TrainTime=00:03:37, Loss=1.5981, TokensPerSec=28984, StepTime=0.14s\n",
            "Step 1130/2500 (45%): TrainTime=00:03:38, Loss=1.5796, TokensPerSec=30153, StepTime=0.14s\n",
            "Step 1140/2500 (46%): TrainTime=00:03:40, Loss=1.5414, TokensPerSec=29302, StepTime=0.14s\n",
            "Step 1150/2500 (46%): TrainTime=00:03:41, Loss=1.5886, TokensPerSec=29054, StepTime=0.14s\n",
            "Step 1160/2500 (46%): TrainTime=00:03:42, Loss=1.5727, TokensPerSec=24413, StepTime=0.17s\n",
            "Step 1170/2500 (47%): TrainTime=00:03:44, Loss=1.5862, TokensPerSec=19833, StepTime=0.21s\n",
            "Step 1180/2500 (47%): TrainTime=00:03:46, Loss=1.5354, TokensPerSec=29634, StepTime=0.14s\n",
            "Step 1190/2500 (48%): TrainTime=00:03:47, Loss=1.5687, TokensPerSec=29244, StepTime=0.14s\n",
            "Step 1200/2500 (48%): TrainTime=00:03:49, Loss=1.5612, TokensPerSec=29249, StepTime=0.14s\n",
            "Step 1210/2500 (48%): TrainTime=00:03:50, Loss=1.5442, TokensPerSec=29377, StepTime=0.14s\n",
            "Step 1220/2500 (49%): TrainTime=00:03:52, Loss=1.5389, TokensPerSec=29317, StepTime=0.14s\n",
            "Step 1230/2500 (49%): TrainTime=00:03:53, Loss=1.5850, TokensPerSec=29678, StepTime=0.14s\n",
            "Step 1240/2500 (50%): TrainTime=00:03:55, Loss=1.5208, TokensPerSec=30077, StepTime=0.14s\n",
            "Step 1250/2500 (50%): TrainTime=00:03:56, Loss=1.5327, TokensPerSec=19568, StepTime=0.21s\n",
            "Validation ----------------------------------------\n",
            "Total loss: 1.6304646615059144\n",
            "CE loss: 1.4641687831571024\n",
            "LB loss: 0.1662958889238296\n",
            "Output ------------------------------\n",
            "\n",
            "Second Keeping LEONTES:\n",
            "As I such a prince own, my man; I have\n",
            "Groan'd from thee to his frown breath father manforewels,\n",
            "Peor mean which refessions themselless with no conterros,\n",
            "In agratestity encre\n",
            "--------------------------------------------------\n",
            "Step 1260/2500 (50%): TrainTime=00:04:08, Loss=1.5079, TokensPerSec=22395, StepTime=0.18s\n",
            "Step 1270/2500 (51%): TrainTime=00:04:10, Loss=1.5526, TokensPerSec=22433, StepTime=0.18s\n",
            "Step 1280/2500 (51%): TrainTime=00:04:11, Loss=1.5409, TokensPerSec=30521, StepTime=0.13s\n",
            "Step 1290/2500 (52%): TrainTime=00:04:13, Loss=1.5488, TokensPerSec=28281, StepTime=0.14s\n",
            "Step 1300/2500 (52%): TrainTime=00:04:14, Loss=1.5158, TokensPerSec=29378, StepTime=0.14s\n",
            "Step 1310/2500 (52%): TrainTime=00:04:16, Loss=1.5121, TokensPerSec=29655, StepTime=0.14s\n",
            "Step 1320/2500 (53%): TrainTime=00:04:17, Loss=1.5641, TokensPerSec=30836, StepTime=0.13s\n",
            "Step 1330/2500 (53%): TrainTime=00:04:18, Loss=1.5171, TokensPerSec=26610, StepTime=0.15s\n",
            "Step 1340/2500 (54%): TrainTime=00:04:20, Loss=1.5451, TokensPerSec=29674, StepTime=0.14s\n",
            "Step 1350/2500 (54%): TrainTime=00:04:22, Loss=1.5227, TokensPerSec=18746, StepTime=0.22s\n",
            "Step 1360/2500 (54%): TrainTime=00:04:23, Loss=1.5090, TokensPerSec=29038, StepTime=0.14s\n",
            "Step 1370/2500 (55%): TrainTime=00:04:25, Loss=1.4945, TokensPerSec=27578, StepTime=0.15s\n",
            "Step 1380/2500 (55%): TrainTime=00:04:26, Loss=1.5057, TokensPerSec=30320, StepTime=0.14s\n",
            "Step 1390/2500 (56%): TrainTime=00:04:28, Loss=1.5016, TokensPerSec=29671, StepTime=0.14s\n",
            "Step 1400/2500 (56%): TrainTime=00:04:29, Loss=1.5536, TokensPerSec=30306, StepTime=0.14s\n",
            "Step 1410/2500 (56%): TrainTime=00:04:30, Loss=1.5586, TokensPerSec=30152, StepTime=0.14s\n",
            "Step 1420/2500 (57%): TrainTime=00:04:32, Loss=1.4801, TokensPerSec=29291, StepTime=0.14s\n",
            "Step 1430/2500 (57%): TrainTime=00:04:34, Loss=1.5149, TokensPerSec=19982, StepTime=0.2s\n",
            "Step 1440/2500 (58%): TrainTime=00:04:35, Loss=1.5190, TokensPerSec=30061, StepTime=0.14s\n",
            "Step 1450/2500 (58%): TrainTime=00:04:37, Loss=1.4807, TokensPerSec=29720, StepTime=0.14s\n",
            "Step 1460/2500 (58%): TrainTime=00:04:38, Loss=1.4956, TokensPerSec=27291, StepTime=0.15s\n",
            "Step 1470/2500 (59%): TrainTime=00:04:40, Loss=1.5115, TokensPerSec=29740, StepTime=0.14s\n",
            "Step 1480/2500 (59%): TrainTime=00:04:41, Loss=1.5172, TokensPerSec=30092, StepTime=0.14s\n",
            "Step 1490/2500 (60%): TrainTime=00:04:42, Loss=1.5569, TokensPerSec=29660, StepTime=0.14s\n",
            "Step 1500/2500 (60%): TrainTime=00:04:44, Loss=1.4982, TokensPerSec=28052, StepTime=0.15s\n",
            "Validation ----------------------------------------\n",
            "Total loss: 1.5901662418919225\n",
            "CE loss: 1.4247299432754517\n",
            "LB loss: 0.16543630726875796\n",
            "Output ------------------------------\n",
            "And bid of his all-true, which with in exgod\n",
            "The more; Oxnewise mble that the woses speaks. Yet as all\n",
            "the brother: though has slept time\n",
            "A correctionerue been the reputation them\n",
            "And I have unto offe\n",
            "--------------------------------------------------\n",
            "Step 1510/2500 (60%): TrainTime=00:04:56, Loss=1.5472, TokensPerSec=27116, StepTime=0.15s\n",
            "Step 1520/2500 (61%): TrainTime=00:04:57, Loss=1.5557, TokensPerSec=30375, StepTime=0.13s\n",
            "Step 1530/2500 (61%): TrainTime=00:04:59, Loss=1.5765, TokensPerSec=20932, StepTime=0.2s\n",
            "Step 1540/2500 (62%): TrainTime=00:05:01, Loss=1.4864, TokensPerSec=30064, StepTime=0.14s\n",
            "Step 1550/2500 (62%): TrainTime=00:05:02, Loss=1.5089, TokensPerSec=30254, StepTime=0.14s\n",
            "Step 1560/2500 (62%): TrainTime=00:05:03, Loss=1.4755, TokensPerSec=29986, StepTime=0.14s\n",
            "Step 1570/2500 (63%): TrainTime=00:05:05, Loss=1.5563, TokensPerSec=29715, StepTime=0.14s\n",
            "Step 1580/2500 (63%): TrainTime=00:05:06, Loss=1.4762, TokensPerSec=29591, StepTime=0.14s\n",
            "Step 1590/2500 (64%): TrainTime=00:05:08, Loss=1.5168, TokensPerSec=29356, StepTime=0.14s\n",
            "Step 1600/2500 (64%): TrainTime=00:05:09, Loss=1.5275, TokensPerSec=28189, StepTime=0.15s\n",
            "Step 1610/2500 (64%): TrainTime=00:05:11, Loss=1.5115, TokensPerSec=22665, StepTime=0.18s\n",
            "Step 1620/2500 (65%): TrainTime=00:05:13, Loss=1.4619, TokensPerSec=27277, StepTime=0.15s\n",
            "Step 1630/2500 (65%): TrainTime=00:05:14, Loss=1.5823, TokensPerSec=26726, StepTime=0.15s\n",
            "Step 1640/2500 (66%): TrainTime=00:05:15, Loss=1.5402, TokensPerSec=27000, StepTime=0.15s\n",
            "Step 1650/2500 (66%): TrainTime=00:05:17, Loss=1.5243, TokensPerSec=30022, StepTime=0.14s\n",
            "Step 1660/2500 (66%): TrainTime=00:05:18, Loss=1.5582, TokensPerSec=29666, StepTime=0.14s\n",
            "Step 1670/2500 (67%): TrainTime=00:05:20, Loss=1.4884, TokensPerSec=30470, StepTime=0.13s\n",
            "Step 1680/2500 (67%): TrainTime=00:05:21, Loss=1.5042, TokensPerSec=30466, StepTime=0.13s\n",
            "Step 1690/2500 (68%): TrainTime=00:05:23, Loss=1.5163, TokensPerSec=20016, StepTime=0.2s\n",
            "Step 1700/2500 (68%): TrainTime=00:05:25, Loss=1.4936, TokensPerSec=17367, StepTime=0.24s\n",
            "Step 1710/2500 (68%): TrainTime=00:05:26, Loss=1.5274, TokensPerSec=29804, StepTime=0.14s\n",
            "Step 1720/2500 (69%): TrainTime=00:05:27, Loss=1.4380, TokensPerSec=30093, StepTime=0.14s\n",
            "Step 1730/2500 (69%): TrainTime=00:05:29, Loss=1.5219, TokensPerSec=26406, StepTime=0.16s\n",
            "Step 1740/2500 (70%): TrainTime=00:05:30, Loss=1.5099, TokensPerSec=28775, StepTime=0.14s\n",
            "Step 1750/2500 (70%): TrainTime=00:05:32, Loss=1.4915, TokensPerSec=29595, StepTime=0.14s\n",
            "Validation ----------------------------------------\n",
            "Total loss: 1.571080776952928\n",
            "CE loss: 1.4045343860503166\n",
            "LB loss: 0.16654638849919842\n",
            "Output ------------------------------\n",
            "The power I clocked me set all my blows;\n",
            "But yet must not heall adle to Richard\n",
            "Me that to me believed on eye prayed be a state!\n",
            "\n",
            "POMPEYGO:\n",
            "Thus in you, looks I smiled me.\n",
            "\n",
            "OXRIANA:\n",
            "I know it stand en\n",
            "--------------------------------------------------\n",
            "Step 1760/2500 (70%): TrainTime=00:05:44, Loss=1.4667, TokensPerSec=29953, StepTime=0.14s\n",
            "Step 1770/2500 (71%): TrainTime=00:05:45, Loss=1.5295, TokensPerSec=29690, StepTime=0.14s\n",
            "Step 1780/2500 (71%): TrainTime=00:05:47, Loss=1.4804, TokensPerSec=29987, StepTime=0.14s\n",
            "Step 1790/2500 (72%): TrainTime=00:05:48, Loss=1.4621, TokensPerSec=23812, StepTime=0.17s\n",
            "Step 1800/2500 (72%): TrainTime=00:05:50, Loss=1.4872, TokensPerSec=29539, StepTime=0.14s\n",
            "Step 1810/2500 (72%): TrainTime=00:05:52, Loss=1.5036, TokensPerSec=27350, StepTime=0.15s\n",
            "Step 1820/2500 (73%): TrainTime=00:05:53, Loss=1.4704, TokensPerSec=28851, StepTime=0.14s\n",
            "Step 1830/2500 (73%): TrainTime=00:05:54, Loss=1.4707, TokensPerSec=29875, StepTime=0.14s\n",
            "Step 1840/2500 (74%): TrainTime=00:05:56, Loss=1.4576, TokensPerSec=26617, StepTime=0.15s\n",
            "Step 1850/2500 (74%): TrainTime=00:05:57, Loss=1.5096, TokensPerSec=30836, StepTime=0.13s\n",
            "Step 1860/2500 (74%): TrainTime=00:05:59, Loss=1.4312, TokensPerSec=29251, StepTime=0.14s\n",
            "Step 1870/2500 (75%): TrainTime=00:06:00, Loss=1.4995, TokensPerSec=20543, StepTime=0.2s\n",
            "Step 1880/2500 (75%): TrainTime=00:06:02, Loss=1.4767, TokensPerSec=18576, StepTime=0.22s\n",
            "Step 1890/2500 (76%): TrainTime=00:06:04, Loss=1.4781, TokensPerSec=29933, StepTime=0.14s\n",
            "Step 1900/2500 (76%): TrainTime=00:06:05, Loss=1.4795, TokensPerSec=27543, StepTime=0.15s\n",
            "Step 1910/2500 (76%): TrainTime=00:06:06, Loss=1.4747, TokensPerSec=30022, StepTime=0.14s\n",
            "Step 1920/2500 (77%): TrainTime=00:06:08, Loss=1.4851, TokensPerSec=29404, StepTime=0.14s\n",
            "Step 1930/2500 (77%): TrainTime=00:06:09, Loss=1.4528, TokensPerSec=29942, StepTime=0.14s\n",
            "Step 1940/2500 (78%): TrainTime=00:06:11, Loss=1.4694, TokensPerSec=29966, StepTime=0.14s\n",
            "Step 1950/2500 (78%): TrainTime=00:06:12, Loss=1.4846, TokensPerSec=30174, StepTime=0.14s\n",
            "Step 1960/2500 (78%): TrainTime=00:06:14, Loss=1.4354, TokensPerSec=21028, StepTime=0.19s\n",
            "Step 1970/2500 (79%): TrainTime=00:06:16, Loss=1.4577, TokensPerSec=29391, StepTime=0.14s\n",
            "Step 1980/2500 (79%): TrainTime=00:06:17, Loss=1.4851, TokensPerSec=30182, StepTime=0.14s\n",
            "Step 1990/2500 (80%): TrainTime=00:06:18, Loss=1.4634, TokensPerSec=28266, StepTime=0.14s\n",
            "Step 2000/2500 (80%): TrainTime=00:06:20, Loss=1.4958, TokensPerSec=29231, StepTime=0.14s\n",
            "Validation ----------------------------------------\n",
            "Total loss: 1.5762892115500666\n",
            "CE loss: 1.4093098371259627\n",
            "LB loss: 0.16697937875024735\n",
            "Output ------------------------------\n",
            "ISABELLA:\n",
            "Tell me, all them fally you within;\n",
            "But I mine eyes:\n",
            "For known, where go will so; but is Romeo,\n",
            "And bid his retire with my silence away, if reconcile\n",
            "That farther is a maids, not am I do\n",
            "If \n",
            "--------------------------------------------------\n",
            "Step 2010/2500 (80%): TrainTime=00:06:31, Loss=1.4581, TokensPerSec=29799, StepTime=0.14s\n",
            "Step 2020/2500 (81%): TrainTime=00:06:33, Loss=1.4536, TokensPerSec=27277, StepTime=0.15s\n",
            "Step 2030/2500 (81%): TrainTime=00:06:34, Loss=1.4809, TokensPerSec=29962, StepTime=0.14s\n",
            "Step 2040/2500 (82%): TrainTime=00:06:36, Loss=1.4669, TokensPerSec=29984, StepTime=0.14s\n",
            "Step 2050/2500 (82%): TrainTime=00:06:37, Loss=1.4876, TokensPerSec=29518, StepTime=0.14s\n",
            "Step 2060/2500 (82%): TrainTime=00:06:39, Loss=1.4707, TokensPerSec=18656, StepTime=0.22s\n",
            "Step 2070/2500 (83%): TrainTime=00:06:41, Loss=1.4762, TokensPerSec=30326, StepTime=0.14s\n",
            "Step 2080/2500 (83%): TrainTime=00:06:42, Loss=1.4822, TokensPerSec=28046, StepTime=0.15s\n",
            "Step 2090/2500 (84%): TrainTime=00:06:43, Loss=1.4660, TokensPerSec=29767, StepTime=0.14s\n",
            "Step 2100/2500 (84%): TrainTime=00:06:45, Loss=1.4666, TokensPerSec=30590, StepTime=0.13s\n",
            "Step 2110/2500 (84%): TrainTime=00:06:46, Loss=1.4692, TokensPerSec=29538, StepTime=0.14s\n",
            "Step 2120/2500 (85%): TrainTime=00:06:48, Loss=1.4775, TokensPerSec=28924, StepTime=0.14s\n",
            "Step 2130/2500 (85%): TrainTime=00:06:49, Loss=1.4486, TokensPerSec=28421, StepTime=0.14s\n",
            "Step 2140/2500 (86%): TrainTime=00:06:51, Loss=1.4679, TokensPerSec=23049, StepTime=0.18s\n",
            "Step 2150/2500 (86%): TrainTime=00:06:53, Loss=1.4198, TokensPerSec=29881, StepTime=0.14s\n",
            "Step 2160/2500 (86%): TrainTime=00:06:54, Loss=1.4467, TokensPerSec=30740, StepTime=0.13s\n",
            "Step 2170/2500 (87%): TrainTime=00:06:55, Loss=1.4734, TokensPerSec=28046, StepTime=0.15s\n",
            "Step 2180/2500 (87%): TrainTime=00:06:57, Loss=1.4734, TokensPerSec=30428, StepTime=0.13s\n",
            "Step 2190/2500 (88%): TrainTime=00:06:58, Loss=1.4483, TokensPerSec=29612, StepTime=0.14s\n",
            "Step 2200/2500 (88%): TrainTime=00:07:00, Loss=1.4776, TokensPerSec=29559, StepTime=0.14s\n",
            "Step 2210/2500 (88%): TrainTime=00:07:01, Loss=1.4420, TokensPerSec=29562, StepTime=0.14s\n",
            "Step 2220/2500 (89%): TrainTime=00:07:03, Loss=1.4159, TokensPerSec=21451, StepTime=0.19s\n",
            "Step 2230/2500 (89%): TrainTime=00:07:05, Loss=1.4273, TokensPerSec=23255, StepTime=0.18s\n",
            "Step 2240/2500 (90%): TrainTime=00:07:06, Loss=1.4528, TokensPerSec=28719, StepTime=0.14s\n",
            "Step 2250/2500 (90%): TrainTime=00:07:07, Loss=1.4300, TokensPerSec=28993, StepTime=0.14s\n",
            "Validation ----------------------------------------\n",
            "Total loss: 1.5411816066311252\n",
            "CE loss: 1.3745143451998312\n",
            "LB loss: 0.16666726768016815\n",
            "Output ------------------------------\n",
            "Your uncle, and Tybalt's the thing now are,\n",
            "Her bsen whose cack was the king; talk'd farm and my\n",
            "brothers: bad is come that personally have proffer'd kife:\n",
            "Who new of Edward and Romeo; put to his libe\n",
            "--------------------------------------------------\n",
            "Step 2260/2500 (90%): TrainTime=00:07:19, Loss=1.4357, TokensPerSec=28738, StepTime=0.14s\n",
            "Step 2270/2500 (91%): TrainTime=00:07:21, Loss=1.4685, TokensPerSec=28743, StepTime=0.14s\n",
            "Step 2280/2500 (91%): TrainTime=00:07:22, Loss=1.4311, TokensPerSec=30126, StepTime=0.14s\n",
            "Step 2290/2500 (92%): TrainTime=00:07:24, Loss=1.4570, TokensPerSec=28550, StepTime=0.14s\n",
            "Step 2300/2500 (92%): TrainTime=00:07:25, Loss=1.4665, TokensPerSec=29774, StepTime=0.14s\n",
            "Step 2310/2500 (92%): TrainTime=00:07:26, Loss=1.4721, TokensPerSec=27804, StepTime=0.15s\n",
            "Step 2320/2500 (93%): TrainTime=00:07:28, Loss=1.4227, TokensPerSec=23231, StepTime=0.18s\n",
            "Step 2330/2500 (93%): TrainTime=00:07:30, Loss=1.4317, TokensPerSec=30137, StepTime=0.14s\n",
            "Step 2340/2500 (94%): TrainTime=00:07:31, Loss=1.4377, TokensPerSec=30246, StepTime=0.14s\n",
            "Step 2350/2500 (94%): TrainTime=00:07:33, Loss=1.4248, TokensPerSec=28068, StepTime=0.15s\n",
            "Step 2360/2500 (94%): TrainTime=00:07:34, Loss=1.4422, TokensPerSec=29280, StepTime=0.14s\n",
            "Step 2370/2500 (95%): TrainTime=00:07:35, Loss=1.4633, TokensPerSec=29915, StepTime=0.14s\n",
            "Step 2380/2500 (95%): TrainTime=00:07:37, Loss=1.4777, TokensPerSec=30204, StepTime=0.14s\n",
            "Step 2390/2500 (96%): TrainTime=00:07:38, Loss=1.4524, TokensPerSec=30040, StepTime=0.14s\n",
            "Step 2400/2500 (96%): TrainTime=00:07:40, Loss=1.4341, TokensPerSec=27885, StepTime=0.15s\n",
            "Step 2410/2500 (96%): TrainTime=00:07:42, Loss=1.4428, TokensPerSec=19794, StepTime=0.21s\n",
            "Step 2420/2500 (97%): TrainTime=00:07:43, Loss=1.4506, TokensPerSec=29790, StepTime=0.14s\n",
            "Step 2430/2500 (97%): TrainTime=00:07:44, Loss=1.4198, TokensPerSec=30607, StepTime=0.13s\n",
            "Step 2440/2500 (98%): TrainTime=00:07:46, Loss=1.4879, TokensPerSec=29706, StepTime=0.14s\n",
            "Step 2450/2500 (98%): TrainTime=00:07:47, Loss=1.4749, TokensPerSec=29888, StepTime=0.14s\n",
            "Step 2460/2500 (98%): TrainTime=00:07:49, Loss=1.4551, TokensPerSec=29625, StepTime=0.14s\n",
            "Step 2470/2500 (99%): TrainTime=00:07:50, Loss=1.4419, TokensPerSec=27935, StepTime=0.15s\n",
            "Step 2480/2500 (99%): TrainTime=00:07:51, Loss=1.4809, TokensPerSec=29951, StepTime=0.14s\n",
            "Step 2490/2500 (100%): TrainTime=00:07:53, Loss=1.4634, TokensPerSec=20554, StepTime=0.2s\n",
            "Step 2500/2500 (100%): TrainTime=00:07:55, Loss=1.4365, TokensPerSec=27494, StepTime=0.15s\n",
            "Validation ----------------------------------------\n",
            "Total loss: 1.5613867928904872\n",
            "CE loss: 1.395000361627148\n",
            "LB loss: 0.16638643222470437\n",
            "Output ------------------------------\n",
            "One war.\n",
            "\n",
            "SICINIUS:\n",
            "Shall you go,\n",
            "That's your servant let upon you.\n",
            "\n",
            "CAMILLO:\n",
            "How do you this dove: direct not's offence, I\n",
            "Kad not so. Can in heaven,\n",
            "Now I that, morality; stands of his degreets,\n",
            "And\n",
            "--------------------------------------------------\n"
          ]
        }
      ],
      "source": [
        "import functools\n",
        "import random\n",
        "import torch\n",
        "import torch.cuda\n",
        "\n",
        "import torch.optim\n",
        "import time\n",
        "\n",
        "from typing import Literal\n",
        "\n",
        "random.seed(42)\n",
        "torch.manual_seed(42)\n",
        "torch.set_float32_matmul_precision(\"high\")\n",
        "\n",
        "\n",
        "device = \"cuda\" if torch.cuda.is_available() else \"cpu\"\n",
        "if device == \"cpu\":\n",
        "  print(\"WARNING: Using cpu device, training will be slow\")\n",
        "\n",
        "train_dataloader = torch.utils.data.DataLoader(\n",
        "    train, batch_size=64, shuffle=True, pin_memory=True, num_workers=2, prefetch_factor=2,\n",
        ")\n",
        "val_dataloader = torch.utils.data.DataLoader(\n",
        "    val, batch_size=64, shuffle=False, pin_memory=True, num_workers=2, prefetch_factor=2,\n",
        ")\n",
        "\n",
        "config = Config()\n",
        "model = Transformer(config)\n",
        "lb_loss_scale = 0.01\n",
        "\n",
        "model_params = sum(p.numel() for p in model.parameters())\n",
        "print(f\"Total parameters: {model_params / 1e6:.2f}M\")\n",
        "\n",
        "optimizer = torch.optim.AdamW(\n",
        "    model.parameters(), lr=2e-3, weight_decay=0.1, betas=(0.9, 0.95),\n",
        ")\n",
        "scaler = torch.amp.GradScaler()\n",
        "model.to(device)\n",
        "\n",
        "num_steps = 2500\n",
        "val_every = 250\n",
        "dataiter = iter(train_dataloader)\n",
        "start_time = time.time()\n",
        "start_step = time.time()\n",
        "val_input = \"\\n\" # Simulate the end of the last paragraph\n",
        "val_gen_tokens = 200\n",
        "\n",
        "train_losses = []\n",
        "val_losses = []\n",
        "\n",
        "def run_validation():\n",
        "  val_loss, val_ce_loss, val_lb_loss = validate(\n",
        "      model=model,\n",
        "      val_dataloader=val_dataloader,\n",
        "      lb_loss_scale=lb_loss_scale,\n",
        "      device_type=device,\n",
        "  )\n",
        "  print(\"Validation\", \"-\" * 40)\n",
        "  print(\"Total loss:\", val_loss)\n",
        "  print(\"CE loss:\", val_ce_loss)\n",
        "  print(\"LB loss:\", val_lb_loss)\n",
        "  output = generate(\n",
        "      model,\n",
        "      vocab,\n",
        "      val_input,\n",
        "      val_gen_tokens,\n",
        "      device\n",
        "  )\n",
        "  print(\"Output\", \"-\" * 30)\n",
        "  print(output[1:])\n",
        "  print(\"-\" * 50)\n",
        "  return val_loss, val_ce_loss, val_lb_loss\n",
        "\n",
        "val_losses.append(run_validation())\n",
        "\n",
        "for step in range(1, num_steps + 1):\n",
        "  x, y = next(dataiter)\n",
        "  x, y = x.to(device), y.to(device)\n",
        "  token_count = x.numel()\n",
        "  loss, ce_loss, lb_loss = train_step(\n",
        "      model=model,\n",
        "      optimizer=optimizer,\n",
        "      scaler=scaler,\n",
        "      lb_loss_scale=lb_loss_scale,\n",
        "      device_type=device,\n",
        "      x=x,\n",
        "      y=y)\n",
        "  train_losses.append((loss, ce_loss, lb_loss))\n",
        "  step_time = time.time() - start_step\n",
        "  start_step = time.time()\n",
        "  if step % 10 == 0:\n",
        "    completed = step / num_steps * 100\n",
        "    ellapsed = time.time() - start_time\n",
        "    tok_per_sec = token_count / step_time\n",
        "    fmt_ellapsed = time.strftime(\"%H:%M:%S\", time.gmtime(ellapsed))\n",
        "    print(\n",
        "        f\"Step {step}/{num_steps} ({completed:.0f}%): \"\n",
        "        f\"TrainTime={fmt_ellapsed}, \"\n",
        "        f\"Loss={loss:.4f}, \"\n",
        "        f\"TokensPerSec={tok_per_sec:.0f}, \"\n",
        "        f\"StepTime={step_time:.2}s\"\n",
        "    )\n",
        "  if step % val_every == 0:\n",
        "    val_losses.append(run_validation())"
      ]
    },
    {
      "cell_type": "code",
      "execution_count": null,
      "metadata": {
        "id": "7PjhJ1uuZHoL",
        "colab": {
          "base_uri": "https://localhost:8080/",
          "height": 957
        },
        "outputId": "21af02f6-ce40-49c9-960c-07eda3131c50"
      },
      "outputs": [
        {
          "output_type": "display_data",
          "data": {
            "text/plain": [
              "<Figure size 800x500 with 1 Axes>"
            ],
            "image/png": "[encoded data removed]"
          },
          "metadata": {}
        },
        {
          "output_type": "display_data",
          "data": {
            "text/plain": [
              "<Figure size 800x500 with 1 Axes>"
            ],
            "image/png": "[encoded data removed]"
          },
          "metadata": {}
        }
      ],
      "source": [
        "import matplotlib.pyplot as plt\n",
        "\n",
        "# Create x-axis values for training and validation losses\n",
        "train_steps = list(range(len(train_losses)))  # Assuming 1 step per training loss\n",
        "val_steps = [i * val_every for i in range(len(val_losses))]  # Validation steps every 100 steps\n",
        "\n",
        "# Extract the losses\n",
        "train_loss, train_ce_loss, train_lb_loss = zip(*train_losses)\n",
        "val_loss, val_ce_loss, val_lb_loss = zip(*val_losses)\n",
        "\n",
        "\n",
        "# Plot overall loss\n",
        "plt.figure(figsize=(8, 5))\n",
        "plt.plot(train_steps, train_loss, label='Train Loss')\n",
        "plt.plot(val_steps, val_loss, label='Val Loss')\n",
        "plt.xlabel('Epoch')\n",
        "plt.ylabel('Loss')\n",
        "plt.title('Overall Loss')\n",
        "plt.legend()\n",
        "plt.show()\n",
        "\n",
        "# Plot load balancing loss\n",
        "plt.figure(figsize=(8, 5))\n",
        "plt.plot(train_steps, train_lb_loss, label='Train LB Loss')\n",
        "plt.xlabel('Epoch')\n",
        "plt.ylabel('LB Loss')\n",
        "plt.title('Load Balancing Loss')\n",
        "plt.legend()\n",
        "plt.show()"
      ]
    },
    {
      "cell_type": "code",
      "source": [
        "# Plot stacked area plot for train losses\n",
        "plt.figure(figsize=(8, 5))\n",
        "plt.stackplot(train_steps, train_ce_loss, train_lb_loss, labels=['CE Loss', 'LB Loss'])\n",
        "#plt.plot(train_steps, train_loss, label='Total Loss', color='black', linestyle='-')\n",
        "plt.xlabel('Epoch')\n",
        "plt.ylabel('Train Loss')\n",
        "plt.title('Train Loss Components Contribution')\n",
        "plt.legend(loc='upper right')\n",
        "plt.show()"
      ],
      "metadata": {
        "colab": {
          "base_uri": "https://localhost:8080/",
          "height": 487
        },
        "id": "2r_KJ9HkfLDp",
        "outputId": "6ca7c8e1-1c16-47e5-abad-0f0b674934ed"
      },
      "execution_count": null,
      "outputs": [
        {
          "output_type": "display_data",
          "data": {
            "text/plain": [
              "<Figure size 800x500 with 1 Axes>"
            ],
            "image/png": "[encoded data removed]"
          },
          "metadata": {}
        }
      ]
    },
    {
      "cell_type": "code",
      "execution_count": null,
      "metadata": {
        "id": "DeOkj3UYgf87",
        "colab": {
          "base_uri": "https://localhost:8080/"
        },
        "outputId": "e50367c5-dc55-4a4b-ede7-c5d75ac76f95"
      },
      "outputs": [
        {
          "output_type": "stream",
          "name": "stdout",
          "text": [
            "\n",
            "MUCIO:\n",
            "Why, not marriage; I am as a horse,\n",
            "But from Edward, into the body to the every 'gainst thing;\n",
            "Here be still thy wrongs being with what\n",
            "oppose thine eiver had we confess and pursors.\n",
            "\n",
            "TRANIO:\n",
            "And sound, 'tis brief, well home to enters,\n",
            "Even the inclinenes your abster 'lame.\n",
            "\n",
            "AEdile:\n",
            "Thy maid is offence to his pitience!\n",
            "\n",
            "SICINIUS:\n",
            "I have a thing eaten could.\n",
            "\n",
            "CURTIS:\n",
            "Shall my love?\n",
            "\n",
            "LEONTES:\n",
            "Say you confessess'd the ill.\n",
            "\n",
            "KING EDWARD IV:\n",
            "I thence, my lord; and I thank you, quickly love.\n",
            "\n",
            "KING RICHARD III:\n",
            "I thank upon your brands: if you may, tell you\n",
            "The air ire is easy pride to among me to you;\n",
            "Honsome this souls and was at life, you help\n",
            "Till you shall bring it coast I have done.\n",
            "Ay, back?\n",
            "\n",
            "HENRY PERCY:\n",
            "Comingham, neise, my lord; what offender of hands Boots\n",
            "Be cooked against a lion again.\n",
            "\n",
            "LADY ANNE:\n",
            "Kind that said Hereford's recongeas;\n",
            "We, in the bragge of the garden and worth i slain\n",
            "As thou art is at BlashSativel, and\n",
            "see it so strucking but in Capulet can\n",
            "Thomas much with\n"
          ]
        }
      ],
      "source": [
        "test_input = \"\\n\" # Continue to use new line as if beginning a new paragraph\n",
        "test_gen_len = 1000\n",
        "test_output = generate(\n",
        "    model,\n",
        "    vocab,\n",
        "    test_input,\n",
        "    test_gen_len,\n",
        "    device\n",
        ")\n",
        "\n",
        "print(test_output)"
      ]
    },
    {
      "cell_type": "code",
      "source": [],
      "metadata": {
        "id": "2wbp_hrCbrsN"
      },
      "execution_count": null,
      "outputs": []
    }
  ],
  "metadata": {
    "accelerator": "GPU",
    "colab": {
      "collapsed_sections": [
        "yhmbmir2cuCn"
      ],
      "gpuType": "T4",
      "provenance": []
    },
    "kernelspec": {
      "display_name": "Python 3",
      "name": "python3"
    },
    "language_info": {
      "name": "python"
    }
  },
  "nbformat": 4,
  "nbformat_minor": 0
}