{
 "cells": [
  {
   "cell_type": "code",
   "execution_count": 1,
   "id": "21bcaeb6",
   "metadata": {},
   "outputs": [
    {
     "name": "stdout",
     "output_type": "stream",
     "text": [
      "\u001b[33mDEPRECATION: Configuring installation scheme with distutils config files is deprecated and will no longer work in the near future. If you are using a Homebrew or Linuxbrew Python, please see discussion at https://github.com/Homebrew/homebrew-core/issues/76621\u001b[0m\u001b[33m\n",
      "\u001b[0m\u001b[33mWARNING: Ignoring invalid distribution - (/usr/local/lib/python3.9/site-packages)\u001b[0m\u001b[33m\n",
      "\u001b[0m\u001b[33mWARNING: Ignoring invalid distribution -arkupsafe (/usr/local/lib/python3.9/site-packages)\u001b[0m\u001b[33m\n",
      "\u001b[0m\u001b[33mWARNING: Ignoring invalid distribution -egex (/usr/local/lib/python3.9/site-packages)\u001b[0m\u001b[33m\n",
      "\u001b[0m\u001b[33mWARNING: Ignoring invalid distribution -inja2 (/usr/local/lib/python3.9/site-packages)\u001b[0m\u001b[33m\n",
      "\u001b[0m\u001b[33mWARNING: Ignoring invalid distribution -nidecode (/usr/local/lib/python3.9/site-packages)\u001b[0m\u001b[33m\n",
      "\u001b[0m\u001b[33mWARNING: Ignoring invalid distribution -ntmax (/usr/local/lib/python3.9/site-packages)\u001b[0m\u001b[33m\n",
      "\u001b[0m\u001b[33mWARNING: Ignoring invalid distribution -pmath (/usr/local/lib/python3.9/site-packages)\u001b[0m\u001b[33m\n",
      "\u001b[0m\u001b[33mWARNING: Ignoring invalid distribution -umpy (/usr/local/lib/python3.9/site-packages)\u001b[0m\u001b[33m\n",
      "\u001b[0m\u001b[33mWARNING: Ignoring invalid distribution -mpy (/usr/local/lib/python3.9/site-packages)\u001b[0m\u001b[33m\n",
      "\u001b[0mLooking in indexes: https://download.pytorch.org/whl/cpu\n",
      "Requirement already satisfied: torch in /Users/afm/Library/Python/3.9/lib/python/site-packages (2.1.2)\n",
      "Requirement already satisfied: torchvision in /usr/local/lib/python3.9/site-packages (0.16.2)\n",
      "Requirement already satisfied: filelock in /usr/local/lib/python3.9/site-packages (from torch) (3.13.1)\n",
      "Requirement already satisfied: typing-extensions in /usr/local/lib/python3.9/site-packages (from torch) (4.10.0)\n",
      "Requirement already satisfied: sympy in /usr/local/lib/python3.9/site-packages (from torch) (1.12)\n",
      "Requirement already satisfied: networkx in /usr/local/lib/python3.9/site-packages (from torch) (3.2.1)\n",
      "Requirement already satisfied: jinja2 in /usr/local/lib/python3.9/site-packages (from torch) (3.1.3)\n",
      "Requirement already satisfied: fsspec in /usr/local/lib/python3.9/site-packages (from torch) (2023.12.2)\n",
      "Requirement already satisfied: numpy in /usr/local/lib/python3.9/site-packages (from torchvision) (1.26.4)\n",
      "Requirement already satisfied: requests in /usr/local/lib/python3.9/site-packages (from torchvision) (2.31.0)\n",
      "Requirement already satisfied: pillow!=8.3.*,>=5.3.0 in /usr/local/lib/python3.9/site-packages (from torchvision) (8.1.0)\n",
      "Requirement already satisfied: MarkupSafe>=2.0 in /usr/local/lib/python3.9/site-packages (from jinja2->torch) (2.1.3)\n",
      "Requirement already satisfied: charset-normalizer<4,>=2 in /usr/local/lib/python3.9/site-packages (from requests->torchvision) (3.3.2)\n",
      "Requirement already satisfied: idna<4,>=2.5 in /usr/local/lib/python3.9/site-packages (from requests->torchvision) (3.6)\n",
      "Requirement already satisfied: urllib3<3,>=1.21.1 in /usr/local/lib/python3.9/site-packages (from requests->torchvision) (2.2.1)\n",
      "Requirement already satisfied: certifi>=2017.4.17 in /usr/local/lib/python3.9/site-packages (from requests->torchvision) (2024.2.2)\n",
      "Requirement already satisfied: mpmath>=0.19 in /usr/local/lib/python3.9/site-packages (from sympy->torch) (1.3.0)\n",
      "\u001b[33mWARNING: Ignoring invalid distribution - (/usr/local/lib/python3.9/site-packages)\u001b[0m\u001b[33m\n",
      "\u001b[0m\u001b[33mWARNING: Ignoring invalid distribution -arkupsafe (/usr/local/lib/python3.9/site-packages)\u001b[0m\u001b[33m\n",
      "\u001b[0m\u001b[33mWARNING: Ignoring invalid distribution -egex (/usr/local/lib/python3.9/site-packages)\u001b[0m\u001b[33m\n",
      "\u001b[0m\u001b[33mWARNING: Ignoring invalid distribution -inja2 (/usr/local/lib/python3.9/site-packages)\u001b[0m\u001b[33m\n",
      "\u001b[0m\u001b[33mWARNING: Ignoring invalid distribution -nidecode (/usr/local/lib/python3.9/site-packages)\u001b[0m\u001b[33m\n",
      "\u001b[0m\u001b[33mWARNING: Ignoring invalid distribution -ntmax (/usr/local/lib/python3.9/site-packages)\u001b[0m\u001b[33m\n",
      "\u001b[0m\u001b[33mWARNING: Ignoring invalid distribution -pmath (/usr/local/lib/python3.9/site-packages)\u001b[0m\u001b[33m\n",
      "\u001b[0m\u001b[33mWARNING: Ignoring invalid distribution -umpy (/usr/local/lib/python3.9/site-packages)\u001b[0m\u001b[33m\n",
      "\u001b[0m\u001b[33mWARNING: Ignoring invalid distribution -mpy (/usr/local/lib/python3.9/site-packages)\u001b[0m\u001b[33m\n",
      "\u001b[0m\u001b[33mDEPRECATION: Configuring installation scheme with distutils config files is deprecated and will no longer work in the near future. If you are using a Homebrew or Linuxbrew Python, please see discussion at https://github.com/Homebrew/homebrew-core/issues/76621\u001b[0m\u001b[33m\n",
      "\u001b[0m\u001b[33mWARNING: Ignoring invalid distribution - (/usr/local/lib/python3.9/site-packages)\u001b[0m\u001b[33m\n",
      "\u001b[0m\u001b[33mWARNING: Ignoring invalid distribution -arkupsafe (/usr/local/lib/python3.9/site-packages)\u001b[0m\u001b[33m\n",
      "\u001b[0m\u001b[33mWARNING: Ignoring invalid distribution -egex (/usr/local/lib/python3.9/site-packages)\u001b[0m\u001b[33m\n",
      "\u001b[0m\u001b[33mWARNING: Ignoring invalid distribution -inja2 (/usr/local/lib/python3.9/site-packages)\u001b[0m\u001b[33m\n",
      "\u001b[0m\u001b[33mWARNING: Ignoring invalid distribution -nidecode (/usr/local/lib/python3.9/site-packages)\u001b[0m\u001b[33m\n",
      "\u001b[0m\u001b[33mWARNING: Ignoring invalid distribution -ntmax (/usr/local/lib/python3.9/site-packages)\u001b[0m\u001b[33m\n",
      "\u001b[0m\u001b[33mWARNING: Ignoring invalid distribution -pmath (/usr/local/lib/python3.9/site-packages)\u001b[0m\u001b[33m\n",
      "\u001b[0m\u001b[33mWARNING: Ignoring invalid distribution -umpy (/usr/local/lib/python3.9/site-packages)\u001b[0m\u001b[33m\n",
      "\u001b[0m\u001b[33mWARNING: Ignoring invalid distribution -mpy (/usr/local/lib/python3.9/site-packages)\u001b[0m\u001b[33m\n",
      "\u001b[0m\u001b[33mDEPRECATION: Configuring installation scheme with distutils config files is deprecated and will no longer work in the near future. If you are using a Homebrew or Linuxbrew Python, please see discussion at https://github.com/Homebrew/homebrew-core/issues/76621\u001b[0m\u001b[33m\n",
      "\u001b[0m\u001b[33mWARNING: Ignoring invalid distribution - (/usr/local/lib/python3.9/site-packages)\u001b[0m\u001b[33m\n",
      "\u001b[0m\u001b[33mWARNING: Ignoring invalid distribution -arkupsafe (/usr/local/lib/python3.9/site-packages)\u001b[0m\u001b[33m\n",
      "\u001b[0m\u001b[33mWARNING: Ignoring invalid distribution -egex (/usr/local/lib/python3.9/site-packages)\u001b[0m\u001b[33m\n",
      "\u001b[0m\u001b[33mWARNING: Ignoring invalid distribution -inja2 (/usr/local/lib/python3.9/site-packages)\u001b[0m\u001b[33m\n",
      "\u001b[0m\u001b[33mWARNING: Ignoring invalid distribution -nidecode (/usr/local/lib/python3.9/site-packages)\u001b[0m\u001b[33m\n",
      "\u001b[0m\u001b[33mWARNING: Ignoring invalid distribution -ntmax (/usr/local/lib/python3.9/site-packages)\u001b[0m\u001b[33m\n",
      "\u001b[0m\u001b[33mWARNING: Ignoring invalid distribution -pmath (/usr/local/lib/python3.9/site-packages)\u001b[0m\u001b[33m\n",
      "\u001b[0m\u001b[33mWARNING: Ignoring invalid distribution -umpy (/usr/local/lib/python3.9/site-packages)\u001b[0m\u001b[33m\n",
      "\u001b[0m\u001b[33mWARNING: Ignoring invalid distribution -mpy (/usr/local/lib/python3.9/site-packages)\u001b[0m\u001b[33m\n",
      "\u001b[0mRequirement already satisfied: entmax in /usr/local/lib/python3.9/site-packages (1.3)\n",
      "Requirement already satisfied: torch>=1.3 in /Users/afm/Library/Python/3.9/lib/python/site-packages (from entmax) (2.1.2)\n",
      "Requirement already satisfied: filelock in /usr/local/lib/python3.9/site-packages (from torch>=1.3->entmax) (3.13.1)\n",
      "Requirement already satisfied: typing-extensions in /usr/local/lib/python3.9/site-packages (from torch>=1.3->entmax) (4.10.0)\n",
      "Requirement already satisfied: sympy in /usr/local/lib/python3.9/site-packages (from torch>=1.3->entmax) (1.12)\n",
      "Requirement already satisfied: networkx in /usr/local/lib/python3.9/site-packages (from torch>=1.3->entmax) (3.2.1)\n",
      "Requirement already satisfied: jinja2 in /usr/local/lib/python3.9/site-packages (from torch>=1.3->entmax) (3.1.3)\n",
      "Requirement already satisfied: fsspec in /usr/local/lib/python3.9/site-packages (from torch>=1.3->entmax) (2023.12.2)\n",
      "Requirement already satisfied: MarkupSafe>=2.0 in /usr/local/lib/python3.9/site-packages (from jinja2->torch>=1.3->entmax) (2.1.3)\n",
      "Requirement already satisfied: mpmath>=0.19 in /usr/local/lib/python3.9/site-packages (from sympy->torch>=1.3->entmax) (1.3.0)\n",
      "\u001b[33mWARNING: Ignoring invalid distribution - (/usr/local/lib/python3.9/site-packages)\u001b[0m\u001b[33m\n",
      "\u001b[0m\u001b[33mWARNING: Ignoring invalid distribution -arkupsafe (/usr/local/lib/python3.9/site-packages)\u001b[0m\u001b[33m\n",
      "\u001b[0m\u001b[33mWARNING: Ignoring invalid distribution -egex (/usr/local/lib/python3.9/site-packages)\u001b[0m\u001b[33m\n",
      "\u001b[0m\u001b[33mWARNING: Ignoring invalid distribution -inja2 (/usr/local/lib/python3.9/site-packages)\u001b[0m\u001b[33m\n",
      "\u001b[0m\u001b[33mWARNING: Ignoring invalid distribution -nidecode (/usr/local/lib/python3.9/site-packages)\u001b[0m\u001b[33m\n",
      "\u001b[0m\u001b[33mWARNING: Ignoring invalid distribution -ntmax (/usr/local/lib/python3.9/site-packages)\u001b[0m\u001b[33m\n",
      "\u001b[0m\u001b[33mWARNING: Ignoring invalid distribution -pmath (/usr/local/lib/python3.9/site-packages)\u001b[0m\u001b[33m\n",
      "\u001b[0m\u001b[33mWARNING: Ignoring invalid distribution -umpy (/usr/local/lib/python3.9/site-packages)\u001b[0m\u001b[33m\n",
      "\u001b[0m\u001b[33mWARNING: Ignoring invalid distribution -mpy (/usr/local/lib/python3.9/site-packages)\u001b[0m\u001b[33m\n",
      "\u001b[0m\u001b[33mDEPRECATION: Configuring installation scheme with distutils config files is deprecated and will no longer work in the near future. If you are using a Homebrew or Linuxbrew Python, please see discussion at https://github.com/Homebrew/homebrew-core/issues/76621\u001b[0m\u001b[33m\n",
      "\u001b[0m\u001b[33mWARNING: Ignoring invalid distribution - (/usr/local/lib/python3.9/site-packages)\u001b[0m\u001b[33m\n",
      "\u001b[0m\u001b[33mWARNING: Ignoring invalid distribution -arkupsafe (/usr/local/lib/python3.9/site-packages)\u001b[0m\u001b[33m\n",
      "\u001b[0m\u001b[33mWARNING: Ignoring invalid distribution -egex (/usr/local/lib/python3.9/site-packages)\u001b[0m\u001b[33m\n",
      "\u001b[0m\u001b[33mWARNING: Ignoring invalid distribution -inja2 (/usr/local/lib/python3.9/site-packages)\u001b[0m\u001b[33m\n",
      "\u001b[0m\u001b[33mWARNING: Ignoring invalid distribution -nidecode (/usr/local/lib/python3.9/site-packages)\u001b[0m\u001b[33m\n",
      "\u001b[0m\u001b[33mWARNING: Ignoring invalid distribution -ntmax (/usr/local/lib/python3.9/site-packages)\u001b[0m\u001b[33m\n",
      "\u001b[0m\u001b[33mWARNING: Ignoring invalid distribution -pmath (/usr/local/lib/python3.9/site-packages)\u001b[0m\u001b[33m\n",
      "\u001b[0m\u001b[33mWARNING: Ignoring invalid distribution -umpy (/usr/local/lib/python3.9/site-packages)\u001b[0m\u001b[33m\n",
      "\u001b[0m\u001b[33mWARNING: Ignoring invalid distribution -mpy (/usr/local/lib/python3.9/site-packages)\u001b[0m\u001b[33m\n",
      "\u001b[0m"
     ]
    }
   ],
   "source": [
    "# Install PyTorch without GPU support\n",
    "!pip install torch torchvision --index-url https://download.pytorch.org/whl/cpu\n",
    "!pip install entmax\n"
   ]
  },
  {
   "cell_type": "markdown",
   "id": "70e368de",
   "metadata": {},
   "source": [
    "# Hopfield Networks\n",
    "\n",
    "In this notebook, we provide a walkthorugh for implementing sparse and structured Hopfield networks."
   ]
  },
  {
   "cell_type": "markdown",
   "id": "6072738d",
   "metadata": {},
   "source": [
    "## Sparse Hopfield-like Energy Functions\n",
    "\n",
    "In this section, we assume that the regularizer $\\Omega$ has domain $\\mathrm{dom}(\\Omega) = \\triangle_N$ and that it is a **generalized negentropy** or that $\\Omega$ has domain in the polytope $\\mathrm{conv}(Y)$ for the $k$-subsets case.\n",
    "\n",
    "[(Santos et al., 2024)](https://openreview.net/pdf/565c1f8b00f4fdecff6e2b1eddfc418f06f64e4d.pdf) used the definition that $\\Omega'(\\mathbf{\\theta}) = \\Omega(\\beta \\mathbf{\\theta})$, obtaining the following energy, up to an extra constant:\n",
    "\n",
    "$$\n",
    "E(\\mathbf{q}) = \\underbrace{-\\beta^{-1} L_\\Omega(\\beta \\mathbf{X} \\mathbf{q}; \\mathbf{1}/{N})}_{E_{\\mathrm{concave}}(\\mathbf{q})} + \\underbrace{\\frac{1}{2} \\|\\mathbf{q} - \\mathbf{\\mu}_{\\mathbf{X}}\\|^2 + \\frac{1}{2}(M^2 - \\|\\mathbf{\\mu}_{\\mathbf{X}}\\|^2)}_{{E_{\\mathrm{convex}}(\\mathbf{q})}}\n",
    "$$\n",
    "\n",
    "where $\\mathbf{\\mu}_{\\mathbf{X}} := \\mathbf{X}^\\top \\mathbf{1}/N \\in \\mathbb{R}^D$ is the empirical mean of the patterns, and $M := \\max_i \\|\\mathbf{x}_i\\|$. \n",
    "\n",
    "This energy extends that of the standard Hopfield model, which is recovered when $\\Omega$ is Shannon's negentropy.\n",
    "\n",
    "The $E_{\\text{convex}}$ and $E_{\\text{concave}}$ terms compete when minimizing the energy:\n",
    "\n",
    "- Minimizing $E_{\\mathrm{concave}}$ is equivalent to *maximizing* $L_{\\Omega}(\\beta \\mathbf{X} \\mathbf{q}; \\mathbf{1}/{N})$, which pushes $\\mathbf{q}$ to be as far as possible from a uniform average and closer to a single pattern.\n",
    "- Minimizing $E_{\\mathrm{convex}}$ serves as a proximity regularization, encouraging the state pattern $\\mathbf{q}$ to stay close to $\\mathbf{\\mu}_{\\mathbf{X}}$.\n",
    "\n",
    "## Update Rule of Sparse HFY Energies\n",
    "\n",
    "Furthermore, minimizing the energy with the CCCP algorithm leads to the updates:\n",
    "\n",
    "$$\\mathbf{q}^{(t+1)} = \\mathbf{X}^\\top \\hat{\\mathbf{y}}_\\Omega(\\beta \\mathbf{X} \\mathbf{q}^{(t)})$$\n",
    "\n",
    "This result generalizes previous work on modern Hopfield networks."
   ]
  },
  {
   "cell_type": "markdown",
   "id": "6e1524bb",
   "metadata": {},
   "source": [
    "## MNIST Retrieval\n",
    "In this section, we demonstrate the retrieval behavior of our sparse and structured Hopfield networks by storing MNIST digit images in memory and evaluating the performance of this various Hopfield network variants on this memory."
   ]
  },
  {
   "cell_type": "markdown",
   "id": "c014e5b1",
   "metadata": {},
   "source": [
    "### Wrap Up"
   ]
  },
  {
   "cell_type": "code",
   "execution_count": 2,
   "id": "3731707e",
   "metadata": {},
   "outputs": [],
   "source": [
    "import torch\n",
    "from torchvision import datasets, transforms\n",
    "\n",
    "# Set manual seed\n",
    "torch.random.manual_seed(41)\n",
    "\n",
    "# Class to flatten images\n",
    "class Flatten(object):\n",
    "\n",
    "    def __call__(self, tensor):\n",
    "        return torch.flatten(tensor)\n",
    "\n",
    "    def __repr__(self):\n",
    "        return self.__class__.__name__ + '()'\n",
    "\n",
    "# Normalize to [-1, 1]\n",
    "transform = transforms.Compose([\n",
    "    transforms.ToTensor(),\n",
    "    transforms.Normalize(0.5,0.5),\n",
    "    Flatten()  \n",
    "])\n",
    "\n",
    "# Download dataset\n",
    "mnist_dataset = datasets.MNIST(root='../datasets', train=True, download=True, transform=transform)\n",
    "\n",
    "data_loader = torch.utils.data.DataLoader(mnist_dataset, batch_size=len(mnist_dataset), shuffle=True)\n",
    "\n",
    "for data in data_loader:\n",
    "    X_train, labels_train = data"
   ]
  },
  {
   "cell_type": "markdown",
   "id": "058047ed",
   "metadata": {},
   "source": [
    "### Memory\n",
    "\n",
    "Here, we create a memory of 20 MNIST images and plot them."
   ]
  },
  {
   "cell_type": "code",
   "execution_count": 3,
   "id": "18f88e75",
   "metadata": {},
   "outputs": [
    {
     "data": {
      "image/png": "[encoded data removed]",
      "text/plain": [
       "<Figure size 432x288 with 20 Axes>"
      ]
     },
     "metadata": {
      "needs_background": "light"
     },
     "output_type": "display_data"
    }
   ],
   "source": [
    "from matplotlib import pyplot as plt\n",
    "# Define the memory size\n",
    "memory_size = 20\n",
    "memory = X_train[:memory_size].view(-1, 28, 28)\n",
    "\n",
    "# Plot the memory\n",
    "fig, axes = plt.subplots(4, 5, figsize=(6, 4))\n",
    "\n",
    "axes = axes.flatten()\n",
    "\n",
    "for i in range(memory_size):\n",
    "    axes[i].imshow(memory[i].numpy(), cmap='gray')\n",
    "    axes[i].axis('off') \n",
    "\n",
    "plt.subplots_adjust(wspace=0.1, hspace=0.1)\n",
    "plt.show()"
   ]
  },
  {
   "cell_type": "markdown",
   "id": "130e3f19",
   "metadata": {},
   "source": [
    "### Half Masking\n",
    "\n",
    "**In this experiment**, we select an index corresponding to a memory element and apply a *bottom-half mask* to demonstrate the retrieval behavior of the query. We choose the digit 2, as it appears four times in the memory, making it an interesting case for retrieval.\n",
    "\n",
    "\n"
   ]
  },
  {
   "cell_type": "code",
   "execution_count": 4,
   "id": "830c821d",
   "metadata": {},
   "outputs": [
    {
     "data": {
      "image/png": "[encoded data removed]",
      "text/plain": [
       "<Figure size 576x360 with 2 Axes>"
      ]
     },
     "metadata": {
      "needs_background": "light"
     },
     "output_type": "display_data"
    }
   ],
   "source": [
    "X_stored = memory.view(20, 784)\n",
    "rows, cols = 28, 28\n",
    "\n",
    "# Select memory index\n",
    "index = 3\n",
    "\n",
    "# Calculate the number of rows to set to 0 intensity\n",
    "rows_to_whiten = int(0.5 * rows)\n",
    "X_to_retrieve = X_stored[index].view(28,28)\n",
    "\n",
    "# Plot both images side by side\n",
    "fig, ax = plt.subplots(1, 2, figsize=(8, 5))\n",
    "\n",
    "# Plot the original image\n",
    "ax[0].imshow(X_to_retrieve, cmap='gray', vmin=-1, vmax=1)\n",
    "ax[0].axis('off')  # Hide axis labels and ticks\n",
    "ax[0].set_title(\"Original\")\n",
    "\n",
    "# Apply the whitening mask (set bottom 50% of rows to zero)\n",
    "X_test_whitened = X_to_retrieve.clone()  \n",
    "X_test_whitened[-rows_to_whiten:] = 0\n",
    "\n",
    "# Plot the masked image\n",
    "ax[1].imshow(X_test_whitened, cmap='gray', vmin=-1, vmax=1)\n",
    "ax[1].axis('off')  # Hide axis labels and ticks\n",
    "ax[1].set_title(\"Query\")\n",
    "\n",
    "# Display the images\n",
    "plt.show()\n"
   ]
  },
  {
   "cell_type": "markdown",
   "id": "0fe72aa6",
   "metadata": {},
   "source": [
    "### Hopfield Net\n",
    "\n",
    "Here, we create our Hopfield network class flexible for the sparse and structured transformations."
   ]
  },
  {
   "cell_type": "code",
   "execution_count": 5,
   "id": "2772fbe0",
   "metadata": {},
   "outputs": [],
   "source": [
    "from entmax import budget_bisect, normmax_bisect, entmax_bisect\n",
    "\n",
    "class HopfieldNet(torch.nn.Module):\n",
    "    def __init__(self, \n",
    "                 in_features,\n",
    "                 alpha=1.0,\n",
    "                 beta=1.0,\n",
    "                 max_iter=128,\n",
    "                 sparsemap = False,\n",
    "                 normmax = False,\n",
    "                 factor = \"budget\",\n",
    "                 k = 2\n",
    "                ):\n",
    "        \n",
    "        super(HopfieldNet, self).__init__()\n",
    "        self.sparsemap = sparsemap\n",
    "        self.normmax = normmax\n",
    "        self.X = in_features\n",
    "        self.max_iter = max_iter\n",
    "        self.alpha = alpha\n",
    "        self.beta = beta\n",
    "        self.k = k\n",
    "\n",
    "\n",
    "    def _energy(self, Q):\n",
    "        return energy(Q, self.X, self.alpha, self.beta)\n",
    "        \n",
    "    def _run(self, Q, eps=1e-6):\n",
    "\n",
    "        for _ in range(self.max_iter):\n",
    "            if self.sparsemap:\n",
    "                p = budget_bisect(self.beta * self.X.mm(Q), self.k, dim=0)\n",
    "            elif self.normmax:\n",
    "                p = normmax_bisect(self.beta * self.X.mm(Q), alpha=self.alpha, n_iter=100, dim=0)\n",
    "            else:\n",
    "                p = entmax_bisect(self.beta * self.X.mm(Q), self.alpha, dim=0)\n",
    "                if self.alpha == 1:\n",
    "                    p = torch.softmax(self.beta * self.X.mm(Q), dim=0) \n",
    "            Q = self.X.T @ p\n",
    "        \n",
    "        return Q, p\n",
    "\n",
    "    def forward(self, Q):\n",
    "        return self._run(Q)"
   ]
  },
  {
   "cell_type": "markdown",
   "id": "a69cb735",
   "metadata": {},
   "source": [
    "### Memories Triggered\n",
    "\n",
    "Here, we show the memories activated by three different Hopfield networks, 1.5-entmax, 2-normmax and 3-subsets."
   ]
  },
  {
   "cell_type": "code",
   "execution_count": 6,
   "id": "bcd52e4f",
   "metadata": {},
   "outputs": [
    {
     "data": {
      "image/png": "[encoded data removed]",
      "text/plain": [
       "<Figure size 720x504 with 15 Axes>"
      ]
     },
     "metadata": {
      "needs_background": "light"
     },
     "output_type": "display_data"
    }
   ],
   "source": [
    "# Define beta values\n",
    "beta = 10\n",
    "\n",
    "# Define activation function names\n",
    "activation_functions = [\"1.5-Entmax\",\"2-Normmax\", \"$3$-subsets\"]\n",
    "\n",
    "# Create a figure with rows for beta values and columns for activation functions\n",
    "num_rows = len(activation_functions)\n",
    "num_cols = 5\n",
    "\n",
    "fig, axes = plt.subplots(num_rows, num_cols, figsize=(10, 7))\n",
    "\n",
    "for row_axes in axes:\n",
    "    for ax in row_axes:\n",
    "        ax.axis('off')\n",
    "Qs = []\n",
    "\n",
    "# Choose the desired parameters here\n",
    "for j, activation in enumerate(activation_functions):\n",
    "    if activation == \"2-Normmax\":\n",
    "        model = HopfieldNet(in_features=X_stored, alpha=2.0, beta=beta, max_iter=5)\n",
    "    \n",
    "    elif activation == \"1.5-Entmax\":\n",
    "        model = HopfieldNet(in_features=X_stored, alpha=1.5, beta=beta, max_iter=5)\n",
    "    \n",
    "    elif activation == \"$3$-subsets\":\n",
    "        model = HopfieldNet(in_features=X_stored, alpha=1.0, beta=beta, max_iter=100, sparsemap=True, k=3)\n",
    "    \n",
    "    Q, p = model(X_test_whitened.flatten().view(784, 1))\n",
    "    Qs.append(Q)\n",
    "    \n",
    "    eps_ = 1e-2 if activation == \"Softmax\" else 0\n",
    "    surpass_indices = torch.where(p > eps_)[0]\n",
    "    axes[j, 0].set_title(f\"{activation}\")\n",
    "    for i, idx in enumerate(surpass_indices):\n",
    "        ax = axes[j, i]\n",
    "        ax.imshow(X_stored[idx].view(28, 28), cmap='gray')\n",
    "        ax.axis('off')  \n",
    "plt.subplots_adjust(wspace=0.1, hspace=0.1)\n",
    "plt.show()"
   ]
  },
  {
   "cell_type": "markdown",
   "id": "f081e9d6",
   "metadata": {},
   "source": [
    "As expected 1.5-entmax and 2-normmax due to their sparse nature will retrieve the closest memory pattern to the query while 3-subsets will retrivel the 3 closest memory patterns."
   ]
  },
  {
   "cell_type": "markdown",
   "id": "58257f4d",
   "metadata": {},
   "source": [
    "### Retrieved Patterns\n",
    "Here, we show not the activated memories but the fully retrieved patterns."
   ]
  },
  {
   "cell_type": "code",
   "execution_count": 7,
   "id": "810c7c03",
   "metadata": {},
   "outputs": [
    {
     "data": {
      "image/png": "[encoded data removed]",
      "text/plain": [
       "<Figure size 216x648 with 3 Axes>"
      ]
     },
     "metadata": {
      "needs_background": "light"
     },
     "output_type": "display_data"
    }
   ],
   "source": [
    "fig, axes = plt.subplots(3, 1, figsize=(3, 9)) \n",
    "axes = axes.flatten()\n",
    "\n",
    "for i in range(len(activation_functions)): \n",
    "    axes[i].imshow(Qs[i].view(28, 28).numpy(), cmap='gray') \n",
    "    axes[i].axis('off')  \n",
    "    axes[i].set_title(activation_functions[i])\n",
    "\n",
    "plt.show()"
   ]
  },
  {
   "cell_type": "markdown",
   "id": "9a78fc4b",
   "metadata": {},
   "source": [
    "## Influence Of $\\beta$ In Sparse Hopfield Networks\n",
    "\n",
    "In this experiment we show the sensitivity of the sparse Hopfield networks with $\\beta$."
   ]
  },
  {
   "cell_type": "code",
   "execution_count": 8,
   "id": "0c20fcee",
   "metadata": {},
   "outputs": [
    {
     "data": {
      "image/png": "[encoded data removed]",
      "text/plain": [
       "<Figure size 576x576 with 12 Axes>"
      ]
     },
     "metadata": {},
     "output_type": "display_data"
    }
   ],
   "source": [
    "# Define the beta values\n",
    "betas = [0.01, 0.02, 0.1]\n",
    "model_types = ['softmax', 'entmax', 'sparsemax', 'normmax']\n",
    "\n",
    "Qs = []\n",
    "for model_type in model_types:\n",
    "    for beta in betas:\n",
    "        # Instantiate the model with appropriate parameters\n",
    "        if model_type == 'softmax':\n",
    "            model = HopfieldNet(in_features=X_stored, alpha=1, beta=beta, max_iter=5)\n",
    "        elif model_type == 'entmax':\n",
    "            model = HopfieldNet(in_features=X_stored, alpha=1.5, beta=beta, max_iter=5)\n",
    "        elif model_type == 'sparsemax':\n",
    "            model = HopfieldNet(in_features=X_stored, alpha=2, beta=beta, max_iter=5)\n",
    "        elif model_type == 'normmax':\n",
    "            model = HopfieldNet(in_features=X_stored, alpha=2, beta=beta, max_iter=5, normmax=True)\n",
    "        \n",
    "        Q,p = model(X_test_whitened.flatten().view(784, 1))\n",
    "        Qs.append(Q)\n",
    "\n",
    "fig, axes = plt.subplots(len(model_types), len(betas), figsize=(8, 8))\n",
    "\n",
    "for i, ax in enumerate(axes.flat):\n",
    "    ax.imshow(Qs[i].view(28, 28).numpy(), cmap=\"gray\")  \n",
    "    ax.set_title\n",
    "    ax.set_xticks([])\n",
    "    ax.set_yticks([])\n",
    "\n",
    "for row, model_type in enumerate(model_types):\n",
    "    axes[row, 0].set_ylabel(model_type.capitalize(), fontsize=12)\n",
    "\n",
    "for col, beta in enumerate(betas):\n",
    "    axes[0, col].set_title(f\"Beta={beta}\", fontsize=12)\n",
    "plt.subplots_adjust(wspace=0.1, hspace=0.1)## Influence Of $\\beta$ In Sparse Hopfield Networks\n",
    "plt.show()"
   ]
  },
  {
   "cell_type": "markdown",
   "id": "e0b37bce",
   "metadata": {},
   "source": [
    "As expected, the sparsity of the method influences the sensitivity of the Hopfield network to $\\beta$, with sparser methods exhibiting reduced sensitivity."
   ]
  },
  {
   "cell_type": "code",
   "execution_count": null,
   "id": "3b834dde",
   "metadata": {},
   "outputs": [],
   "source": []
  }
 ],
 "metadata": {
  "kernelspec": {
   "display_name": "Python 3",
   "language": "python",
   "name": "python3"
  },
  "language_info": {
   "codemirror_mode": {
    "name": "ipython",
    "version": 3
   },
   "file_extension": ".py",
   "mimetype": "text/x-python",
   "name": "python",
   "nbconvert_exporter": "python",
   "pygments_lexer": "ipython3",
   "version": "3.9.20"
  }
 },
 "nbformat": 4,
 "nbformat_minor": 5
}
